{
 "cells": [
  {
   "cell_type": "code",
   "execution_count": 1,
   "id": "3c856de8",
   "metadata": {},
   "outputs": [],
   "source": [
    "# The following code will solve 2 optimization problems:\n",
    "# 1. The minimum flux through orfN gene (while still having biomass synthesis)\n",
    "# 2. The max flux through orfN gene"
   ]
  },
  {
   "cell_type": "code",
   "execution_count": 2,
   "id": "5e80621c",
   "metadata": {},
   "outputs": [
    {
     "data": {
      "text/html": [
       "\n",
       "        <table>\n",
       "            <tr>\n",
       "                <td><strong>Name</strong></td>\n",
       "                <td>iSDXXXX</td>\n",
       "            </tr><tr>\n",
       "                <td><strong>Memory address</strong></td>\n",
       "                <td>10a7072e0</td>\n",
       "            </tr><tr>\n",
       "                <td><strong>Number of metabolites</strong></td>\n",
       "                <td>1642</td>\n",
       "            </tr><tr>\n",
       "                <td><strong>Number of reactions</strong></td>\n",
       "                <td>2021</td>\n",
       "            </tr><tr>\n",
       "                <td><strong>Number of genes</strong></td>\n",
       "                <td>1510</td>\n",
       "            </tr><tr>\n",
       "                <td><strong>Number of groups</strong></td>\n",
       "                <td>7</td>\n",
       "            </tr><tr>\n",
       "                <td><strong>Objective expression</strong></td>\n",
       "                <td>1.0*BIOMASS_PA14_v27M - 1.0*BIOMASS_PA14_v27M_reverse_0dc58</td>\n",
       "            </tr><tr>\n",
       "                <td><strong>Compartments</strong></td>\n",
       "                <td>cytosol, extracellular space, periplasm</td>\n",
       "            </tr>\n",
       "          </table>"
      ],
      "text/plain": [
       "<Model iSDXXXX at 0x10a7072e0>"
      ]
     },
     "execution_count": 2,
     "metadata": {},
     "output_type": "execute_result"
    }
   ],
   "source": [
    "# importing PA14 metabolic model of P. aeruginosa\n",
    "import cobra\n",
    "model = cobra.io.read_sbml_model(\"iSD1509MModel.xml\")\n",
    "model"
   ]
  },
  {
   "cell_type": "code",
   "execution_count": 3,
   "id": "57ddfaa6",
   "metadata": {},
   "outputs": [],
   "source": [
    "default_bounds = {}\n",
    "for rs in model.reactions:\n",
    "    default_bounds[rs.id] = rs.bounds\n",
    "    \n",
    "# Making resetting model function\n",
    "def reset_model(model, def_bounds, obj):\n",
    "    for rs in model.reactions:\n",
    "        rs.bounds = def_bounds[rs.id]\n",
    "        \n",
    "        rs.objective_coefficient\n",
    "        \n",
    "        if rs.id == obj:\n",
    "            rs.objective_coefficient = 1\n",
    "\n",
    "reset_model(model, default_bounds, 'BIOMASS_PA14_v27M')"
   ]
  },
  {
   "cell_type": "code",
   "execution_count": 4,
   "id": "2905f020",
   "metadata": {},
   "outputs": [
    {
     "name": "stdout",
     "output_type": "stream",
     "text": [
      "UAGCVT: pep_c + uacgam_c --> pi_c + uaccg_c\n"
     ]
    }
   ],
   "source": [
    "# MurA gene involved in peptidoglycan biosynthesis\n",
    "my_gene = model.genes.get_by_id(\"PA14_57810\")\n",
    "for rxns in my_gene.reactions:\n",
    "    print(rxns)"
   ]
  },
  {
   "cell_type": "code",
   "execution_count": 5,
   "id": "c0881c0f",
   "metadata": {},
   "outputs": [
    {
     "name": "stdout",
     "output_type": "stream",
     "text": [
      "UAGCVT\tUDP-N-acetylglucosamine 1-carboxyvinyltransferase\tpep_c + uacgam_c --> pi_c + uaccg_c\n"
     ]
    }
   ],
   "source": [
    "# MurA catalyzed reaction\n",
    "MurA_rxn = model.reactions.get_by_id('UAGCVT')\n",
    "print(f'{MurA_rxn.id}\\t{MurA_rxn.name}\\t{MurA_rxn.reaction}')"
   ]
  },
  {
   "cell_type": "code",
   "execution_count": 6,
   "id": "eb9d35c0",
   "metadata": {},
   "outputs": [
    {
     "name": "stdout",
     "output_type": "stream",
     "text": [
      "frozenset({<Reaction UAGCVT at 0x14189ca30>})\n"
     ]
    }
   ],
   "source": [
    "murA = model.genes.PA14_57810\n",
    "reactions_murA = murA.reactions\n",
    "print(murA.reactions)"
   ]
  },
  {
   "cell_type": "code",
   "execution_count": 7,
   "id": "d749c228",
   "metadata": {},
   "outputs": [
    {
     "name": "stdout",
     "output_type": "stream",
     "text": [
      "both bounds: (0.0, 999999.0)\n",
      "\n",
      "UAGCVT\n",
      "======\n",
      "pep_c + uacgam_c --> pi_c + uaccg_c\n",
      "Bounds: 0.0, 999999.0\n",
      "Flux: 0.1001\n",
      "\n"
     ]
    }
   ],
   "source": [
    "# MurA bounds\n",
    "print(f'both bounds: {MurA_rxn.bounds}') # in mmol/(gdW.hr)\n",
    "print(MurA_rxn.summary())"
   ]
  },
  {
   "cell_type": "code",
   "execution_count": 8,
   "id": "c678fc5c",
   "metadata": {},
   "outputs": [
    {
     "name": "stdout",
     "output_type": "stream",
     "text": [
      "The objective function is: BIOMASS_PA14_v27M\n"
     ]
    }
   ],
   "source": [
    "# Checking objective function\n",
    "for reactions in model.reactions:\n",
    "    if reactions.objective_coefficient == 1:\n",
    "        print(f'The objective function is: {reactions.id}')"
   ]
  },
  {
   "cell_type": "code",
   "execution_count": 9,
   "id": "3812008c",
   "metadata": {},
   "outputs": [
    {
     "data": {
      "text/html": [
       "<strong><em>Optimal</em> solution with objective value 1.591</strong><br><div>\n",
       "<style scoped>\n",
       "    .dataframe tbody tr th:only-of-type {\n",
       "        vertical-align: middle;\n",
       "    }\n",
       "\n",
       "    .dataframe tbody tr th {\n",
       "        vertical-align: top;\n",
       "    }\n",
       "\n",
       "    .dataframe thead th {\n",
       "        text-align: right;\n",
       "    }\n",
       "</style>\n",
       "<table border=\"1\" class=\"dataframe\">\n",
       "  <thead>\n",
       "    <tr style=\"text-align: right;\">\n",
       "      <th></th>\n",
       "      <th>fluxes</th>\n",
       "      <th>reduced_costs</th>\n",
       "    </tr>\n",
       "  </thead>\n",
       "  <tbody>\n",
       "    <tr>\n",
       "      <th>1PPDCRc</th>\n",
       "      <td>0.0</td>\n",
       "      <td>-6.820692e-02</td>\n",
       "    </tr>\n",
       "    <tr>\n",
       "      <th>2AGPE140tipp</th>\n",
       "      <td>0.0</td>\n",
       "      <td>0.000000e+00</td>\n",
       "    </tr>\n",
       "    <tr>\n",
       "      <th>2AGPE141tipp</th>\n",
       "      <td>0.0</td>\n",
       "      <td>0.000000e+00</td>\n",
       "    </tr>\n",
       "    <tr>\n",
       "      <th>2AGPG140tipp</th>\n",
       "      <td>0.0</td>\n",
       "      <td>0.000000e+00</td>\n",
       "    </tr>\n",
       "    <tr>\n",
       "      <th>2AGPG141tipp</th>\n",
       "      <td>0.0</td>\n",
       "      <td>0.000000e+00</td>\n",
       "    </tr>\n",
       "    <tr>\n",
       "      <th>...</th>\n",
       "      <td>...</td>\n",
       "      <td>...</td>\n",
       "    </tr>\n",
       "    <tr>\n",
       "      <th>SHGO</th>\n",
       "      <td>0.0</td>\n",
       "      <td>-6.252301e-02</td>\n",
       "    </tr>\n",
       "    <tr>\n",
       "      <th>ACTD2_SS</th>\n",
       "      <td>0.0</td>\n",
       "      <td>5.011382e-17</td>\n",
       "    </tr>\n",
       "    <tr>\n",
       "      <th>23DHBSpp</th>\n",
       "      <td>0.0</td>\n",
       "      <td>0.000000e+00</td>\n",
       "    </tr>\n",
       "    <tr>\n",
       "      <th>ACPS1</th>\n",
       "      <td>0.0</td>\n",
       "      <td>-6.820692e-02</td>\n",
       "    </tr>\n",
       "    <tr>\n",
       "      <th>ACPpds</th>\n",
       "      <td>0.0</td>\n",
       "      <td>3.035766e-18</td>\n",
       "    </tr>\n",
       "  </tbody>\n",
       "</table>\n",
       "<p>2021 rows × 2 columns</p>\n",
       "</div>"
      ],
      "text/plain": [
       "<Solution 1.591 at 0x142548df0>"
      ]
     },
     "execution_count": 9,
     "metadata": {},
     "output_type": "execute_result"
    }
   ],
   "source": [
    "solution = model.optimize()\n",
    "solution"
   ]
  },
  {
   "cell_type": "markdown",
   "id": "c11cafa2",
   "metadata": {},
   "source": [
    "## Maximizing flux through reaction"
   ]
  },
  {
   "cell_type": "code",
   "execution_count": 10,
   "id": "50f03d40",
   "metadata": {},
   "outputs": [
    {
     "name": "stdout",
     "output_type": "stream",
     "text": [
      "0.10006993837657316\n"
     ]
    }
   ],
   "source": [
    "for rxns in reactions_murA:\n",
    "    #reset model\n",
    "    reset_model(model, default_bounds, 'BIOMASS_PA14_v27M')\n",
    "    \n",
    "    # Limit growth to minimum of 0.05\n",
    "    model.reactions.BIOMASS_PA14_v27M.bounds = 0.05, 1000\n",
    "\n",
    "    # Make rxn of interest the objective function\n",
    "    model.reactions.BIOMASS_PA14_v27M.objective_coefficient = 0\n",
    "    rxns.objective_coefficient = 1\n",
    "    \n",
    "    # Optimize model to maximize flux through rxn\n",
    "    max_flux = model.optimize(objective_sense='maximize')\n",
    "    print(max_flux.objective_value)\n",
    "   \n",
    "\n",
    "max_flux_val = max_flux.objective_value"
   ]
  },
  {
   "cell_type": "code",
   "execution_count": 11,
   "id": "5c8566db",
   "metadata": {},
   "outputs": [],
   "source": [
    "# What is growth at max flux through MurA\n",
    "# growth_rxn_maxflux = model.reactions.get_by_id('BIOMASS_PA14_v27M')\n",
    "# print(growth_rxn_maxflux.summary())"
   ]
  },
  {
   "cell_type": "markdown",
   "id": "353be62b",
   "metadata": {},
   "source": [
    "## Minimizing flux through reaction"
   ]
  },
  {
   "cell_type": "code",
   "execution_count": 12,
   "id": "5d173f0b",
   "metadata": {},
   "outputs": [
    {
     "name": "stdout",
     "output_type": "stream",
     "text": [
      "0.0031450862059549988\n"
     ]
    }
   ],
   "source": [
    "for rxns in reactions_murA:\n",
    "    #reset model\n",
    "    reset_model(model, default_bounds, 'BIOMASS_PA14_v27M')\n",
    "    \n",
    "    # Limit growth to minimum of 0.05\n",
    "    model.reactions.BIOMASS_PA14_v27M.bounds = 0.05, 1000\n",
    "\n",
    "    # Make rxn of interest the objective function\n",
    "    model.reactions.BIOMASS_PA14_v27M.objective_coefficient = 0\n",
    "    rxns.objective_coefficient = 1\n",
    "    \n",
    "    # Optimize model to maximize flux through rxn\n",
    "    min_flux = model.optimize(objective_sense='minimize')\n",
    "    print(min_flux.objective_value)\n",
    "    \n",
    "min_flux_val = min_flux.objective_value"
   ]
  },
  {
   "cell_type": "code",
   "execution_count": 13,
   "id": "0205c389",
   "metadata": {},
   "outputs": [],
   "source": [
    "# What is growth at min flux through MurA\n",
    "# growth_rxn_minflux = model.reactions.get_by_id('BIOMASS_PA14_v27M')\n",
    "# print(growth_rxn_minflux.summary())"
   ]
  },
  {
   "cell_type": "code",
   "execution_count": 14,
   "id": "60a8ed56",
   "metadata": {},
   "outputs": [
    {
     "data": {
      "text/plain": [
       "(0.0031450862059549988, 0.10006993837657316)"
      ]
     },
     "execution_count": 14,
     "metadata": {},
     "output_type": "execute_result"
    }
   ],
   "source": [
    "# State newly determined bounds for reaction\n",
    "min_flux_val, max_flux_val"
   ]
  },
  {
   "cell_type": "markdown",
   "id": "59ae7f6c",
   "metadata": {},
   "source": [
    "## Perturbations through MurA reaction"
   ]
  },
  {
   "cell_type": "code",
   "execution_count": 15,
   "id": "b75ef354",
   "metadata": {},
   "outputs": [
    {
     "data": {
      "text/plain": [
       "array([0.00314509, 0.00338801, 0.00363093, 0.00387384, 0.00411676,\n",
       "       0.00435968, 0.0046026 , 0.00484552, 0.00508844, 0.00533136,\n",
       "       0.00557428, 0.0058172 , 0.00606012, 0.00630304, 0.00654596,\n",
       "       0.00678888, 0.0070318 , 0.00727472, 0.00751764, 0.00776056,\n",
       "       0.00800347, 0.00824639, 0.00848931, 0.00873223, 0.00897515,\n",
       "       0.00921807, 0.00946099, 0.00970391, 0.00994683, 0.01018975,\n",
       "       0.01043267, 0.01067559, 0.01091851, 0.01116143, 0.01140435,\n",
       "       0.01164727, 0.01189019, 0.01213311, 0.01237602, 0.01261894,\n",
       "       0.01286186, 0.01310478, 0.0133477 , 0.01359062, 0.01383354,\n",
       "       0.01407646, 0.01431938, 0.0145623 , 0.01480522, 0.01504814,\n",
       "       0.01529106, 0.01553398, 0.0157769 , 0.01601982, 0.01626274,\n",
       "       0.01650565, 0.01674857, 0.01699149, 0.01723441, 0.01747733,\n",
       "       0.01772025, 0.01796317, 0.01820609, 0.01844901, 0.01869193,\n",
       "       0.01893485, 0.01917777, 0.01942069, 0.01966361, 0.01990653,\n",
       "       0.02014945, 0.02039237, 0.02063529, 0.0208782 , 0.02112112,\n",
       "       0.02136404, 0.02160696, 0.02184988, 0.0220928 , 0.02233572,\n",
       "       0.02257864, 0.02282156, 0.02306448, 0.0233074 , 0.02355032,\n",
       "       0.02379324, 0.02403616, 0.02427908, 0.024522  , 0.02476492,\n",
       "       0.02500783, 0.02525075, 0.02549367, 0.02573659, 0.02597951,\n",
       "       0.02622243, 0.02646535, 0.02670827, 0.02695119, 0.02719411,\n",
       "       0.02743703, 0.02767995, 0.02792287, 0.02816579, 0.02840871,\n",
       "       0.02865163, 0.02889455, 0.02913747, 0.02938038, 0.0296233 ,\n",
       "       0.02986622, 0.03010914, 0.03035206, 0.03059498, 0.0308379 ,\n",
       "       0.03108082, 0.03132374, 0.03156666, 0.03180958, 0.0320525 ,\n",
       "       0.03229542, 0.03253834, 0.03278126, 0.03302418, 0.0332671 ,\n",
       "       0.03351001, 0.03375293, 0.03399585, 0.03423877, 0.03448169,\n",
       "       0.03472461, 0.03496753, 0.03521045, 0.03545337, 0.03569629,\n",
       "       0.03593921, 0.03618213, 0.03642505, 0.03666797, 0.03691089,\n",
       "       0.03715381, 0.03739673, 0.03763965, 0.03788256, 0.03812548,\n",
       "       0.0383684 , 0.03861132, 0.03885424, 0.03909716, 0.03934008,\n",
       "       0.039583  , 0.03982592, 0.04006884, 0.04031176, 0.04055468,\n",
       "       0.0407976 , 0.04104052, 0.04128344, 0.04152636, 0.04176928,\n",
       "       0.04201219, 0.04225511, 0.04249803, 0.04274095, 0.04298387,\n",
       "       0.04322679, 0.04346971, 0.04371263, 0.04395555, 0.04419847,\n",
       "       0.04444139, 0.04468431, 0.04492723, 0.04517015, 0.04541307,\n",
       "       0.04565599, 0.04589891, 0.04614183, 0.04638474, 0.04662766,\n",
       "       0.04687058, 0.0471135 , 0.04735642, 0.04759934, 0.04784226,\n",
       "       0.04808518, 0.0483281 , 0.04857102, 0.04881394, 0.04905686,\n",
       "       0.04929978, 0.0495427 , 0.04978562, 0.05002854, 0.05027146,\n",
       "       0.05051437, 0.05075729, 0.05100021, 0.05124313, 0.05148605,\n",
       "       0.05172897, 0.05197189, 0.05221481, 0.05245773, 0.05270065,\n",
       "       0.05294357, 0.05318649, 0.05342941, 0.05367233, 0.05391525,\n",
       "       0.05415817, 0.05440109, 0.05464401, 0.05488692, 0.05512984,\n",
       "       0.05537276, 0.05561568, 0.0558586 , 0.05610152, 0.05634444,\n",
       "       0.05658736, 0.05683028, 0.0570732 , 0.05731612, 0.05755904,\n",
       "       0.05780196, 0.05804488, 0.0582878 , 0.05853072, 0.05877364,\n",
       "       0.05901655, 0.05925947, 0.05950239, 0.05974531, 0.05998823,\n",
       "       0.06023115, 0.06047407, 0.06071699, 0.06095991, 0.06120283,\n",
       "       0.06144575, 0.06168867, 0.06193159, 0.06217451, 0.06241743,\n",
       "       0.06266035, 0.06290327, 0.06314619, 0.0633891 , 0.06363202,\n",
       "       0.06387494, 0.06411786, 0.06436078, 0.0646037 , 0.06484662,\n",
       "       0.06508954, 0.06533246, 0.06557538, 0.0658183 , 0.06606122,\n",
       "       0.06630414, 0.06654706, 0.06678998, 0.0670329 , 0.06727582,\n",
       "       0.06751873, 0.06776165, 0.06800457, 0.06824749, 0.06849041,\n",
       "       0.06873333, 0.06897625, 0.06921917, 0.06946209, 0.06970501,\n",
       "       0.06994793, 0.07019085, 0.07043377, 0.07067669, 0.07091961,\n",
       "       0.07116253, 0.07140545, 0.07164837, 0.07189128, 0.0721342 ,\n",
       "       0.07237712, 0.07262004, 0.07286296, 0.07310588, 0.0733488 ,\n",
       "       0.07359172, 0.07383464, 0.07407756, 0.07432048, 0.0745634 ,\n",
       "       0.07480632, 0.07504924, 0.07529216, 0.07553508, 0.075778  ,\n",
       "       0.07602091, 0.07626383, 0.07650675, 0.07674967, 0.07699259,\n",
       "       0.07723551, 0.07747843, 0.07772135, 0.07796427, 0.07820719,\n",
       "       0.07845011, 0.07869303, 0.07893595, 0.07917887, 0.07942179,\n",
       "       0.07966471, 0.07990763, 0.08015055, 0.08039346, 0.08063638,\n",
       "       0.0808793 , 0.08112222, 0.08136514, 0.08160806, 0.08185098,\n",
       "       0.0820939 , 0.08233682, 0.08257974, 0.08282266, 0.08306558,\n",
       "       0.0833085 , 0.08355142, 0.08379434, 0.08403726, 0.08428018,\n",
       "       0.08452309, 0.08476601, 0.08500893, 0.08525185, 0.08549477,\n",
       "       0.08573769, 0.08598061, 0.08622353, 0.08646645, 0.08670937,\n",
       "       0.08695229, 0.08719521, 0.08743813, 0.08768105, 0.08792397,\n",
       "       0.08816689, 0.08840981, 0.08865273, 0.08889564, 0.08913856,\n",
       "       0.08938148, 0.0896244 , 0.08986732, 0.09011024, 0.09035316,\n",
       "       0.09059608, 0.090839  , 0.09108192, 0.09132484, 0.09156776,\n",
       "       0.09181068, 0.0920536 , 0.09229652, 0.09253944, 0.09278236,\n",
       "       0.09302527, 0.09326819, 0.09351111, 0.09375403, 0.09399695,\n",
       "       0.09423987, 0.09448279, 0.09472571, 0.09496863, 0.09521155,\n",
       "       0.09545447, 0.09569739, 0.09594031, 0.09618323, 0.09642615,\n",
       "       0.09666907, 0.09691199, 0.09715491, 0.09739782, 0.09764074,\n",
       "       0.09788366, 0.09812658, 0.0983695 , 0.09861242, 0.09885534,\n",
       "       0.09909826, 0.09934118, 0.0995841 , 0.09982702, 0.10006994])"
      ]
     },
     "execution_count": 15,
     "metadata": {},
     "output_type": "execute_result"
    }
   ],
   "source": [
    "import numpy as np\n",
    "import pandas as pd\n",
    "my_flux_vals = np.linspace(min_flux_val, max_flux_val, num=400)\n",
    "my_flux_vals"
   ]
  },
  {
   "cell_type": "code",
   "execution_count": 16,
   "id": "e62e7a44",
   "metadata": {},
   "outputs": [
    {
     "name": "stdout",
     "output_type": "stream",
     "text": [
      "1.0\n",
      "0.8720541785568877\n"
     ]
    }
   ],
   "source": [
    "# reset model\n",
    "reset_model(model, default_bounds, 'BIOMASS_PA14_v27M')\n",
    "print(model.reactions.BIOMASS_PA14_v27M.objective_coefficient)\n",
    "\n",
    "MurA_rxn.bounds = 0.05160751, 0.05160751\n",
    "\n",
    "# Optimize model to maximize flux through biomass rxn\n",
    "# with specific flux through murA\n",
    "solution = model.optimize(objective_sense='maximize')\n",
    "print(solution.objective_value)"
   ]
  },
  {
   "cell_type": "code",
   "execution_count": 17,
   "id": "bc4f0503",
   "metadata": {},
   "outputs": [
    {
     "data": {
      "text/plain": [
       "1PPDCRc         0.0\n",
       "2AGPE140tipp    0.0\n",
       "2AGPE141tipp    0.0\n",
       "2AGPG140tipp    0.0\n",
       "2AGPG141tipp    0.0\n",
       "               ... \n",
       "SHGO            0.0\n",
       "ACTD2_SS        0.0\n",
       "23DHBSpp        0.0\n",
       "ACPS1           0.0\n",
       "ACPpds          0.0\n",
       "Name: fluxes, Length: 2021, dtype: float64"
      ]
     },
     "execution_count": 17,
     "metadata": {},
     "output_type": "execute_result"
    }
   ],
   "source": [
    "# Model flux vector corresponding with this solution\n",
    "solution.fluxes"
   ]
  },
  {
   "cell_type": "code",
   "execution_count": 18,
   "id": "176e2179",
   "metadata": {},
   "outputs": [
    {
     "data": {
      "text/html": [
       "<div>\n",
       "<style scoped>\n",
       "    .dataframe tbody tr th:only-of-type {\n",
       "        vertical-align: middle;\n",
       "    }\n",
       "\n",
       "    .dataframe tbody tr th {\n",
       "        vertical-align: top;\n",
       "    }\n",
       "\n",
       "    .dataframe thead th {\n",
       "        text-align: right;\n",
       "    }\n",
       "</style>\n",
       "<table border=\"1\" class=\"dataframe\">\n",
       "  <thead>\n",
       "    <tr style=\"text-align: right;\">\n",
       "      <th></th>\n",
       "      <th>1PPDCRc</th>\n",
       "      <th>2AGPE140tipp</th>\n",
       "      <th>2AGPE141tipp</th>\n",
       "      <th>2AGPG140tipp</th>\n",
       "      <th>2AGPG141tipp</th>\n",
       "      <th>2DHGLCK</th>\n",
       "      <th>2DHGLCNkt_tpp</th>\n",
       "      <th>2HH24DDH1</th>\n",
       "      <th>2MAHMP</th>\n",
       "      <th>3_4DHBZ1t_pp</th>\n",
       "      <th>...</th>\n",
       "      <th>EX_gly_glu__L_e</th>\n",
       "      <th>BIOMASS_PA14_v27M</th>\n",
       "      <th>BIOMASS_PA14_v27M_ANA</th>\n",
       "      <th>PYOO2exNET</th>\n",
       "      <th>AHGDx</th>\n",
       "      <th>SHGO</th>\n",
       "      <th>ACTD2_SS</th>\n",
       "      <th>23DHBSpp</th>\n",
       "      <th>ACPS1</th>\n",
       "      <th>ACPpds</th>\n",
       "    </tr>\n",
       "  </thead>\n",
       "  <tbody>\n",
       "    <tr>\n",
       "      <th>fluxes</th>\n",
       "      <td>0.0</td>\n",
       "      <td>0.0</td>\n",
       "      <td>0.0</td>\n",
       "      <td>0.0</td>\n",
       "      <td>0.0</td>\n",
       "      <td>0.0</td>\n",
       "      <td>0.0</td>\n",
       "      <td>0.0</td>\n",
       "      <td>0.0</td>\n",
       "      <td>0.0</td>\n",
       "      <td>...</td>\n",
       "      <td>0.0</td>\n",
       "      <td>0.050000</td>\n",
       "      <td>0.000000</td>\n",
       "      <td>0.0</td>\n",
       "      <td>0.0</td>\n",
       "      <td>0.0</td>\n",
       "      <td>0.0</td>\n",
       "      <td>0.0</td>\n",
       "      <td>0.0</td>\n",
       "      <td>0.0</td>\n",
       "    </tr>\n",
       "    <tr>\n",
       "      <th>fluxes</th>\n",
       "      <td>0.0</td>\n",
       "      <td>0.0</td>\n",
       "      <td>0.0</td>\n",
       "      <td>0.0</td>\n",
       "      <td>0.0</td>\n",
       "      <td>0.0</td>\n",
       "      <td>0.0</td>\n",
       "      <td>0.0</td>\n",
       "      <td>0.0</td>\n",
       "      <td>0.0</td>\n",
       "      <td>...</td>\n",
       "      <td>0.0</td>\n",
       "      <td>0.053862</td>\n",
       "      <td>0.000000</td>\n",
       "      <td>0.0</td>\n",
       "      <td>0.0</td>\n",
       "      <td>0.0</td>\n",
       "      <td>0.0</td>\n",
       "      <td>0.0</td>\n",
       "      <td>0.0</td>\n",
       "      <td>0.0</td>\n",
       "    </tr>\n",
       "    <tr>\n",
       "      <th>fluxes</th>\n",
       "      <td>0.0</td>\n",
       "      <td>0.0</td>\n",
       "      <td>0.0</td>\n",
       "      <td>0.0</td>\n",
       "      <td>0.0</td>\n",
       "      <td>0.0</td>\n",
       "      <td>0.0</td>\n",
       "      <td>0.0</td>\n",
       "      <td>0.0</td>\n",
       "      <td>0.0</td>\n",
       "      <td>...</td>\n",
       "      <td>0.0</td>\n",
       "      <td>0.057724</td>\n",
       "      <td>0.000000</td>\n",
       "      <td>0.0</td>\n",
       "      <td>0.0</td>\n",
       "      <td>0.0</td>\n",
       "      <td>0.0</td>\n",
       "      <td>0.0</td>\n",
       "      <td>0.0</td>\n",
       "      <td>0.0</td>\n",
       "    </tr>\n",
       "    <tr>\n",
       "      <th>fluxes</th>\n",
       "      <td>0.0</td>\n",
       "      <td>0.0</td>\n",
       "      <td>0.0</td>\n",
       "      <td>0.0</td>\n",
       "      <td>0.0</td>\n",
       "      <td>0.0</td>\n",
       "      <td>0.0</td>\n",
       "      <td>0.0</td>\n",
       "      <td>0.0</td>\n",
       "      <td>0.0</td>\n",
       "      <td>...</td>\n",
       "      <td>0.0</td>\n",
       "      <td>0.061586</td>\n",
       "      <td>0.000000</td>\n",
       "      <td>0.0</td>\n",
       "      <td>0.0</td>\n",
       "      <td>0.0</td>\n",
       "      <td>0.0</td>\n",
       "      <td>0.0</td>\n",
       "      <td>0.0</td>\n",
       "      <td>0.0</td>\n",
       "    </tr>\n",
       "    <tr>\n",
       "      <th>fluxes</th>\n",
       "      <td>0.0</td>\n",
       "      <td>0.0</td>\n",
       "      <td>0.0</td>\n",
       "      <td>0.0</td>\n",
       "      <td>0.0</td>\n",
       "      <td>0.0</td>\n",
       "      <td>0.0</td>\n",
       "      <td>0.0</td>\n",
       "      <td>0.0</td>\n",
       "      <td>0.0</td>\n",
       "      <td>...</td>\n",
       "      <td>0.0</td>\n",
       "      <td>0.065448</td>\n",
       "      <td>0.000000</td>\n",
       "      <td>0.0</td>\n",
       "      <td>0.0</td>\n",
       "      <td>0.0</td>\n",
       "      <td>0.0</td>\n",
       "      <td>0.0</td>\n",
       "      <td>0.0</td>\n",
       "      <td>0.0</td>\n",
       "    </tr>\n",
       "    <tr>\n",
       "      <th>...</th>\n",
       "      <td>...</td>\n",
       "      <td>...</td>\n",
       "      <td>...</td>\n",
       "      <td>...</td>\n",
       "      <td>...</td>\n",
       "      <td>...</td>\n",
       "      <td>...</td>\n",
       "      <td>...</td>\n",
       "      <td>...</td>\n",
       "      <td>...</td>\n",
       "      <td>...</td>\n",
       "      <td>...</td>\n",
       "      <td>...</td>\n",
       "      <td>...</td>\n",
       "      <td>...</td>\n",
       "      <td>...</td>\n",
       "      <td>...</td>\n",
       "      <td>...</td>\n",
       "      <td>...</td>\n",
       "      <td>...</td>\n",
       "      <td>...</td>\n",
       "    </tr>\n",
       "    <tr>\n",
       "      <th>fluxes</th>\n",
       "      <td>0.0</td>\n",
       "      <td>0.0</td>\n",
       "      <td>0.0</td>\n",
       "      <td>0.0</td>\n",
       "      <td>0.0</td>\n",
       "      <td>0.0</td>\n",
       "      <td>0.0</td>\n",
       "      <td>0.0</td>\n",
       "      <td>0.0</td>\n",
       "      <td>0.0</td>\n",
       "      <td>...</td>\n",
       "      <td>0.0</td>\n",
       "      <td>1.575446</td>\n",
       "      <td>0.000000</td>\n",
       "      <td>0.0</td>\n",
       "      <td>0.0</td>\n",
       "      <td>0.0</td>\n",
       "      <td>0.0</td>\n",
       "      <td>0.0</td>\n",
       "      <td>0.0</td>\n",
       "      <td>0.0</td>\n",
       "    </tr>\n",
       "    <tr>\n",
       "      <th>fluxes</th>\n",
       "      <td>0.0</td>\n",
       "      <td>0.0</td>\n",
       "      <td>0.0</td>\n",
       "      <td>0.0</td>\n",
       "      <td>0.0</td>\n",
       "      <td>0.0</td>\n",
       "      <td>0.0</td>\n",
       "      <td>0.0</td>\n",
       "      <td>0.0</td>\n",
       "      <td>0.0</td>\n",
       "      <td>...</td>\n",
       "      <td>0.0</td>\n",
       "      <td>1.579308</td>\n",
       "      <td>0.000000</td>\n",
       "      <td>0.0</td>\n",
       "      <td>0.0</td>\n",
       "      <td>0.0</td>\n",
       "      <td>0.0</td>\n",
       "      <td>0.0</td>\n",
       "      <td>0.0</td>\n",
       "      <td>0.0</td>\n",
       "    </tr>\n",
       "    <tr>\n",
       "      <th>fluxes</th>\n",
       "      <td>0.0</td>\n",
       "      <td>0.0</td>\n",
       "      <td>0.0</td>\n",
       "      <td>0.0</td>\n",
       "      <td>0.0</td>\n",
       "      <td>0.0</td>\n",
       "      <td>0.0</td>\n",
       "      <td>0.0</td>\n",
       "      <td>0.0</td>\n",
       "      <td>0.0</td>\n",
       "      <td>...</td>\n",
       "      <td>0.0</td>\n",
       "      <td>1.583170</td>\n",
       "      <td>0.000000</td>\n",
       "      <td>0.0</td>\n",
       "      <td>0.0</td>\n",
       "      <td>0.0</td>\n",
       "      <td>0.0</td>\n",
       "      <td>0.0</td>\n",
       "      <td>0.0</td>\n",
       "      <td>0.0</td>\n",
       "    </tr>\n",
       "    <tr>\n",
       "      <th>fluxes</th>\n",
       "      <td>0.0</td>\n",
       "      <td>0.0</td>\n",
       "      <td>0.0</td>\n",
       "      <td>0.0</td>\n",
       "      <td>0.0</td>\n",
       "      <td>0.0</td>\n",
       "      <td>0.0</td>\n",
       "      <td>0.0</td>\n",
       "      <td>0.0</td>\n",
       "      <td>0.0</td>\n",
       "      <td>...</td>\n",
       "      <td>0.0</td>\n",
       "      <td>1.587032</td>\n",
       "      <td>0.000000</td>\n",
       "      <td>0.0</td>\n",
       "      <td>0.0</td>\n",
       "      <td>0.0</td>\n",
       "      <td>0.0</td>\n",
       "      <td>0.0</td>\n",
       "      <td>0.0</td>\n",
       "      <td>0.0</td>\n",
       "    </tr>\n",
       "    <tr>\n",
       "      <th>fluxes</th>\n",
       "      <td>0.0</td>\n",
       "      <td>0.0</td>\n",
       "      <td>0.0</td>\n",
       "      <td>0.0</td>\n",
       "      <td>0.0</td>\n",
       "      <td>0.0</td>\n",
       "      <td>0.0</td>\n",
       "      <td>0.0</td>\n",
       "      <td>0.0</td>\n",
       "      <td>0.0</td>\n",
       "      <td>...</td>\n",
       "      <td>0.0</td>\n",
       "      <td>0.050000</td>\n",
       "      <td>1.540893</td>\n",
       "      <td>0.0</td>\n",
       "      <td>0.0</td>\n",
       "      <td>0.0</td>\n",
       "      <td>0.0</td>\n",
       "      <td>0.0</td>\n",
       "      <td>0.0</td>\n",
       "      <td>0.0</td>\n",
       "    </tr>\n",
       "  </tbody>\n",
       "</table>\n",
       "<p>400 rows × 2021 columns</p>\n",
       "</div>"
      ],
      "text/plain": [
       "        1PPDCRc  2AGPE140tipp  2AGPE141tipp  2AGPG140tipp  2AGPG141tipp  \\\n",
       "fluxes      0.0           0.0           0.0           0.0           0.0   \n",
       "fluxes      0.0           0.0           0.0           0.0           0.0   \n",
       "fluxes      0.0           0.0           0.0           0.0           0.0   \n",
       "fluxes      0.0           0.0           0.0           0.0           0.0   \n",
       "fluxes      0.0           0.0           0.0           0.0           0.0   \n",
       "...         ...           ...           ...           ...           ...   \n",
       "fluxes      0.0           0.0           0.0           0.0           0.0   \n",
       "fluxes      0.0           0.0           0.0           0.0           0.0   \n",
       "fluxes      0.0           0.0           0.0           0.0           0.0   \n",
       "fluxes      0.0           0.0           0.0           0.0           0.0   \n",
       "fluxes      0.0           0.0           0.0           0.0           0.0   \n",
       "\n",
       "        2DHGLCK  2DHGLCNkt_tpp  2HH24DDH1  2MAHMP  3_4DHBZ1t_pp  ...  \\\n",
       "fluxes      0.0            0.0        0.0     0.0           0.0  ...   \n",
       "fluxes      0.0            0.0        0.0     0.0           0.0  ...   \n",
       "fluxes      0.0            0.0        0.0     0.0           0.0  ...   \n",
       "fluxes      0.0            0.0        0.0     0.0           0.0  ...   \n",
       "fluxes      0.0            0.0        0.0     0.0           0.0  ...   \n",
       "...         ...            ...        ...     ...           ...  ...   \n",
       "fluxes      0.0            0.0        0.0     0.0           0.0  ...   \n",
       "fluxes      0.0            0.0        0.0     0.0           0.0  ...   \n",
       "fluxes      0.0            0.0        0.0     0.0           0.0  ...   \n",
       "fluxes      0.0            0.0        0.0     0.0           0.0  ...   \n",
       "fluxes      0.0            0.0        0.0     0.0           0.0  ...   \n",
       "\n",
       "        EX_gly_glu__L_e  BIOMASS_PA14_v27M  BIOMASS_PA14_v27M_ANA  PYOO2exNET  \\\n",
       "fluxes              0.0           0.050000               0.000000         0.0   \n",
       "fluxes              0.0           0.053862               0.000000         0.0   \n",
       "fluxes              0.0           0.057724               0.000000         0.0   \n",
       "fluxes              0.0           0.061586               0.000000         0.0   \n",
       "fluxes              0.0           0.065448               0.000000         0.0   \n",
       "...                 ...                ...                    ...         ...   \n",
       "fluxes              0.0           1.575446               0.000000         0.0   \n",
       "fluxes              0.0           1.579308               0.000000         0.0   \n",
       "fluxes              0.0           1.583170               0.000000         0.0   \n",
       "fluxes              0.0           1.587032               0.000000         0.0   \n",
       "fluxes              0.0           0.050000               1.540893         0.0   \n",
       "\n",
       "        AHGDx  SHGO  ACTD2_SS  23DHBSpp  ACPS1  ACPpds  \n",
       "fluxes    0.0   0.0       0.0       0.0    0.0     0.0  \n",
       "fluxes    0.0   0.0       0.0       0.0    0.0     0.0  \n",
       "fluxes    0.0   0.0       0.0       0.0    0.0     0.0  \n",
       "fluxes    0.0   0.0       0.0       0.0    0.0     0.0  \n",
       "fluxes    0.0   0.0       0.0       0.0    0.0     0.0  \n",
       "...       ...   ...       ...       ...    ...     ...  \n",
       "fluxes    0.0   0.0       0.0       0.0    0.0     0.0  \n",
       "fluxes    0.0   0.0       0.0       0.0    0.0     0.0  \n",
       "fluxes    0.0   0.0       0.0       0.0    0.0     0.0  \n",
       "fluxes    0.0   0.0       0.0       0.0    0.0     0.0  \n",
       "fluxes    0.0   0.0       0.0       0.0    0.0     0.0  \n",
       "\n",
       "[400 rows x 2021 columns]"
      ]
     },
     "execution_count": 18,
     "metadata": {},
     "output_type": "execute_result"
    }
   ],
   "source": [
    "# Create empty list to input rows for each MurA flux\n",
    "row_list = []\n",
    "# Loop through MurA fluxes to get corresponding network fluxes\n",
    "for flux in my_flux_vals:\n",
    "    # Reset model\n",
    "    reset_model(model, default_bounds, 'BIOMASS_PA14_v27M')\n",
    "    # Set MurA flux bounds\n",
    "    MurA_rxn.bounds = flux, flux\n",
    "    solution = model.optimize(objective_sense='maximize')\n",
    "    row_list.append(solution.fluxes)\n",
    "\n",
    "matrix_df = pd.DataFrame(row_list)\n",
    "matrix_df"
   ]
  },
  {
   "cell_type": "code",
   "execution_count": 19,
   "id": "9d1b10b4",
   "metadata": {},
   "outputs": [
    {
     "data": {
      "text/plain": [
       "(400, 2021)"
      ]
     },
     "execution_count": 19,
     "metadata": {},
     "output_type": "execute_result"
    }
   ],
   "source": [
    "matrix_df.shape"
   ]
  },
  {
   "cell_type": "markdown",
   "id": "e14fdb68",
   "metadata": {},
   "source": [
    "## PCA"
   ]
  },
  {
   "cell_type": "code",
   "execution_count": 20,
   "id": "f2edaf66",
   "metadata": {},
   "outputs": [],
   "source": [
    "# Importing PCA class from sklearn\n",
    "from sklearn.decomposition import PCA"
   ]
  },
  {
   "cell_type": "code",
   "execution_count": 21,
   "id": "a84dee3f",
   "metadata": {},
   "outputs": [
    {
     "data": {
      "text/html": [
       "<style>#sk-container-id-1 {color: black;background-color: white;}#sk-container-id-1 pre{padding: 0;}#sk-container-id-1 div.sk-toggleable {background-color: white;}#sk-container-id-1 label.sk-toggleable__label {cursor: pointer;display: block;width: 100%;margin-bottom: 0;padding: 0.3em;box-sizing: border-box;text-align: center;}#sk-container-id-1 label.sk-toggleable__label-arrow:before {content: \"▸\";float: left;margin-right: 0.25em;color: #696969;}#sk-container-id-1 label.sk-toggleable__label-arrow:hover:before {color: black;}#sk-container-id-1 div.sk-estimator:hover label.sk-toggleable__label-arrow:before {color: black;}#sk-container-id-1 div.sk-toggleable__content {max-height: 0;max-width: 0;overflow: hidden;text-align: left;background-color: #f0f8ff;}#sk-container-id-1 div.sk-toggleable__content pre {margin: 0.2em;color: black;border-radius: 0.25em;background-color: #f0f8ff;}#sk-container-id-1 input.sk-toggleable__control:checked~div.sk-toggleable__content {max-height: 200px;max-width: 100%;overflow: auto;}#sk-container-id-1 input.sk-toggleable__control:checked~label.sk-toggleable__label-arrow:before {content: \"▾\";}#sk-container-id-1 div.sk-estimator input.sk-toggleable__control:checked~label.sk-toggleable__label {background-color: #d4ebff;}#sk-container-id-1 div.sk-label input.sk-toggleable__control:checked~label.sk-toggleable__label {background-color: #d4ebff;}#sk-container-id-1 input.sk-hidden--visually {border: 0;clip: rect(1px 1px 1px 1px);clip: rect(1px, 1px, 1px, 1px);height: 1px;margin: -1px;overflow: hidden;padding: 0;position: absolute;width: 1px;}#sk-container-id-1 div.sk-estimator {font-family: monospace;background-color: #f0f8ff;border: 1px dotted black;border-radius: 0.25em;box-sizing: border-box;margin-bottom: 0.5em;}#sk-container-id-1 div.sk-estimator:hover {background-color: #d4ebff;}#sk-container-id-1 div.sk-parallel-item::after {content: \"\";width: 100%;border-bottom: 1px solid gray;flex-grow: 1;}#sk-container-id-1 div.sk-label:hover label.sk-toggleable__label {background-color: #d4ebff;}#sk-container-id-1 div.sk-serial::before {content: \"\";position: absolute;border-left: 1px solid gray;box-sizing: border-box;top: 0;bottom: 0;left: 50%;z-index: 0;}#sk-container-id-1 div.sk-serial {display: flex;flex-direction: column;align-items: center;background-color: white;padding-right: 0.2em;padding-left: 0.2em;position: relative;}#sk-container-id-1 div.sk-item {position: relative;z-index: 1;}#sk-container-id-1 div.sk-parallel {display: flex;align-items: stretch;justify-content: center;background-color: white;position: relative;}#sk-container-id-1 div.sk-item::before, #sk-container-id-1 div.sk-parallel-item::before {content: \"\";position: absolute;border-left: 1px solid gray;box-sizing: border-box;top: 0;bottom: 0;left: 50%;z-index: -1;}#sk-container-id-1 div.sk-parallel-item {display: flex;flex-direction: column;z-index: 1;position: relative;background-color: white;}#sk-container-id-1 div.sk-parallel-item:first-child::after {align-self: flex-end;width: 50%;}#sk-container-id-1 div.sk-parallel-item:last-child::after {align-self: flex-start;width: 50%;}#sk-container-id-1 div.sk-parallel-item:only-child::after {width: 0;}#sk-container-id-1 div.sk-dashed-wrapped {border: 1px dashed gray;margin: 0 0.4em 0.5em 0.4em;box-sizing: border-box;padding-bottom: 0.4em;background-color: white;}#sk-container-id-1 div.sk-label label {font-family: monospace;font-weight: bold;display: inline-block;line-height: 1.2em;}#sk-container-id-1 div.sk-label-container {text-align: center;}#sk-container-id-1 div.sk-container {/* jupyter's `normalize.less` sets `[hidden] { display: none; }` but bootstrap.min.css set `[hidden] { display: none !important; }` so we also need the `!important` here to be able to override the default hidden behavior on the sphinx rendered scikit-learn.org. See: https://github.com/scikit-learn/scikit-learn/issues/21755 */display: inline-block !important;position: relative;}#sk-container-id-1 div.sk-text-repr-fallback {display: none;}</style><div id=\"sk-container-id-1\" class=\"sk-top-container\"><div class=\"sk-text-repr-fallback\"><pre>PCA()</pre><b>In a Jupyter environment, please rerun this cell to show the HTML representation or trust the notebook. <br />On GitHub, the HTML representation is unable to render, please try loading this page with nbviewer.org.</b></div><div class=\"sk-container\" hidden><div class=\"sk-item\"><div class=\"sk-estimator sk-toggleable\"><input class=\"sk-toggleable__control sk-hidden--visually\" id=\"sk-estimator-id-1\" type=\"checkbox\" checked><label for=\"sk-estimator-id-1\" class=\"sk-toggleable__label sk-toggleable__label-arrow\">PCA</label><div class=\"sk-toggleable__content\"><pre>PCA()</pre></div></div></div></div></div>"
      ],
      "text/plain": [
       "PCA()"
      ]
     },
     "execution_count": 21,
     "metadata": {},
     "output_type": "execute_result"
    }
   ],
   "source": [
    "# Fit PCA model to matrix\n",
    "pca = PCA()\n",
    "pca.fit(matrix_df)"
   ]
  },
  {
   "cell_type": "code",
   "execution_count": 22,
   "id": "41d91c62",
   "metadata": {},
   "outputs": [
    {
     "data": {
      "text/plain": [
       "array([[ 4.96652210e-17,  1.90582413e-20,  6.32233862e-17, ...,\n",
       "         0.00000000e+00,  0.00000000e+00,  0.00000000e+00],\n",
       "       [ 2.83411930e-17,  1.22262430e-16, -6.78507272e-17, ...,\n",
       "         0.00000000e+00,  0.00000000e+00,  0.00000000e+00],\n",
       "       [-4.55907014e-17, -1.21891429e-16,  8.45677695e-18, ...,\n",
       "         0.00000000e+00,  0.00000000e+00,  0.00000000e+00],\n",
       "       ...,\n",
       "       [-4.03133923e-04, -4.21653783e-02,  3.67083245e-02, ...,\n",
       "        -0.00000000e+00, -0.00000000e+00, -0.00000000e+00],\n",
       "       [-3.35080601e-02,  5.66474824e-02,  1.88836373e-01, ...,\n",
       "         0.00000000e+00,  0.00000000e+00,  0.00000000e+00],\n",
       "       [-1.72131935e-02,  2.15570798e-02,  9.09173178e-03, ...,\n",
       "        -0.00000000e+00, -0.00000000e+00, -0.00000000e+00]])"
      ]
     },
     "execution_count": 22,
     "metadata": {},
     "output_type": "execute_result"
    }
   ],
   "source": [
    "# Looking at the principal components formed\n",
    "components = pca.components_\n",
    "components"
   ]
  },
  {
   "cell_type": "code",
   "execution_count": 24,
   "id": "ccb4f4fe",
   "metadata": {},
   "outputs": [
    {
     "name": "stdout",
     "output_type": "stream",
     "text": [
      "[9.14826488e-01 8.16292790e-02 3.34201703e-03 1.37782533e-04\n",
      " 5.77636604e-05 5.12526042e-06 1.54431488e-06 2.36090025e-11\n",
      " 3.38114504e-28 1.63039633e-29 1.41737706e-29 2.99486064e-30\n",
      " 7.77400799e-31 7.21670852e-31 5.31287624e-31 3.84648491e-31\n",
      " 3.03649949e-31 1.46285340e-31 1.14547551e-31 1.04979639e-31\n",
      " 9.48052099e-32 6.73999746e-32 4.04133109e-32 3.17331595e-32\n",
      " 2.86251655e-32 1.90962284e-32 1.16034898e-32 8.22328890e-33\n",
      " 8.22328890e-33 8.22328890e-33 8.22328890e-33 8.22328890e-33\n",
      " 8.22328890e-33 8.22328890e-33 8.22328890e-33 8.22328890e-33\n",
      " 8.22328890e-33 8.22328890e-33 8.22328890e-33 8.22328890e-33\n",
      " 8.22328890e-33 8.22328890e-33 8.22328890e-33 8.22328890e-33\n",
      " 8.22328890e-33 8.22328890e-33 8.22328890e-33 8.22328890e-33\n",
      " 8.22328890e-33 8.22328890e-33 8.22328890e-33 8.22328890e-33\n",
      " 8.22328890e-33 8.22328890e-33 8.22328890e-33 8.22328890e-33\n",
      " 8.22328890e-33 8.22328890e-33 8.22328890e-33 8.22328890e-33\n",
      " 8.22328890e-33 8.22328890e-33 8.22328890e-33 8.22328890e-33\n",
      " 8.22328890e-33 8.22328890e-33 8.22328890e-33 8.22328890e-33\n",
      " 8.22328890e-33 8.22328890e-33 8.22328890e-33 8.22328890e-33\n",
      " 8.22328890e-33 8.22328890e-33 8.22328890e-33 8.22328890e-33\n",
      " 8.22328890e-33 8.22328890e-33 8.22328890e-33 8.22328890e-33\n",
      " 8.22328890e-33 8.22328890e-33 8.22328890e-33 8.22328890e-33\n",
      " 8.22328890e-33 8.22328890e-33 8.22328890e-33 8.22328890e-33\n",
      " 8.22328890e-33 8.22328890e-33 8.22328890e-33 8.22328890e-33\n",
      " 8.22328890e-33 8.22328890e-33 8.22328890e-33 8.22328890e-33\n",
      " 8.22328890e-33 8.22328890e-33 8.22328890e-33 8.22328890e-33\n",
      " 8.22328890e-33 8.22328890e-33 8.22328890e-33 8.22328890e-33\n",
      " 8.22328890e-33 8.22328890e-33 8.22328890e-33 8.22328890e-33\n",
      " 8.22328890e-33 8.22328890e-33 8.22328890e-33 8.22328890e-33\n",
      " 8.22328890e-33 8.22328890e-33 8.22328890e-33 8.22328890e-33\n",
      " 8.22328890e-33 8.22328890e-33 8.22328890e-33 8.22328890e-33\n",
      " 8.22328890e-33 8.22328890e-33 8.22328890e-33 8.22328890e-33\n",
      " 8.22328890e-33 8.22328890e-33 8.22328890e-33 8.22328890e-33\n",
      " 8.22328890e-33 8.22328890e-33 8.22328890e-33 8.22328890e-33\n",
      " 8.22328890e-33 8.22328890e-33 8.22328890e-33 8.22328890e-33\n",
      " 8.22328890e-33 8.22328890e-33 8.22328890e-33 8.22328890e-33\n",
      " 8.22328890e-33 8.22328890e-33 8.22328890e-33 8.22328890e-33\n",
      " 8.22328890e-33 8.22328890e-33 8.22328890e-33 8.22328890e-33\n",
      " 8.22328890e-33 8.22328890e-33 8.22328890e-33 8.22328890e-33\n",
      " 8.22328890e-33 8.22328890e-33 8.22328890e-33 8.22328890e-33\n",
      " 8.22328890e-33 8.22328890e-33 8.22328890e-33 8.22328890e-33\n",
      " 8.22328890e-33 8.22328890e-33 8.22328890e-33 8.22328890e-33\n",
      " 8.22328890e-33 8.22328890e-33 8.22328890e-33 8.22328890e-33\n",
      " 8.22328890e-33 8.22328890e-33 8.22328890e-33 8.22328890e-33\n",
      " 8.22328890e-33 8.22328890e-33 8.22328890e-33 8.22328890e-33\n",
      " 8.22328890e-33 8.22328890e-33 8.22328890e-33 8.22328890e-33\n",
      " 8.22328890e-33 8.22328890e-33 8.22328890e-33 8.22328890e-33\n",
      " 8.22328890e-33 8.22328890e-33 8.22328890e-33 8.22328890e-33\n",
      " 8.22328890e-33 8.22328890e-33 8.22328890e-33 8.22328890e-33\n",
      " 8.22328890e-33 8.22328890e-33 8.22328890e-33 8.22328890e-33\n",
      " 8.22328890e-33 8.22328890e-33 8.22328890e-33 8.22328890e-33\n",
      " 8.22328890e-33 8.22328890e-33 8.22328890e-33 8.22328890e-33\n",
      " 8.22328890e-33 8.22328890e-33 8.22328890e-33 8.22328890e-33\n",
      " 8.22328890e-33 8.22328890e-33 8.22328890e-33 8.22328890e-33\n",
      " 8.22328890e-33 8.22328890e-33 8.22328890e-33 8.22328890e-33\n",
      " 8.22328890e-33 8.22328890e-33 8.22328890e-33 8.22328890e-33\n",
      " 8.22328890e-33 8.22328890e-33 8.22328890e-33 8.22328890e-33\n",
      " 8.22328890e-33 8.22328890e-33 8.22328890e-33 8.22328890e-33\n",
      " 8.22328890e-33 8.22328890e-33 8.22328890e-33 8.22328890e-33\n",
      " 8.22328890e-33 8.22328890e-33 8.22328890e-33 8.22328890e-33\n",
      " 8.22328890e-33 8.22328890e-33 8.22328890e-33 8.22328890e-33\n",
      " 8.22328890e-33 8.22328890e-33 8.22328890e-33 8.22328890e-33\n",
      " 8.22328890e-33 8.22328890e-33 8.22328890e-33 8.22328890e-33\n",
      " 8.22328890e-33 8.22328890e-33 8.22328890e-33 8.22328890e-33\n",
      " 8.22328890e-33 8.22328890e-33 8.22328890e-33 8.22328890e-33\n",
      " 8.22328890e-33 8.22328890e-33 8.22328890e-33 8.22328890e-33\n",
      " 8.22328890e-33 8.22328890e-33 8.22328890e-33 8.22328890e-33\n",
      " 8.22328890e-33 8.22328890e-33 8.22328890e-33 8.22328890e-33\n",
      " 8.22328890e-33 8.22328890e-33 8.22328890e-33 8.22328890e-33\n",
      " 8.22328890e-33 8.22328890e-33 8.22328890e-33 8.22328890e-33\n",
      " 8.22328890e-33 8.22328890e-33 8.22328890e-33 8.22328890e-33\n",
      " 8.22328890e-33 8.22328890e-33 8.22328890e-33 8.22328890e-33\n",
      " 8.22328890e-33 8.22328890e-33 8.22328890e-33 8.22328890e-33\n",
      " 8.22328890e-33 8.22328890e-33 8.22328890e-33 8.22328890e-33\n",
      " 8.22328890e-33 8.22328890e-33 8.22328890e-33 8.22328890e-33\n",
      " 8.22328890e-33 8.22328890e-33 8.22328890e-33 8.22328890e-33\n",
      " 8.22328890e-33 8.22328890e-33 8.22328890e-33 8.22328890e-33\n",
      " 8.22328890e-33 8.22328890e-33 8.22328890e-33 8.22328890e-33\n",
      " 8.22328890e-33 8.22328890e-33 8.22328890e-33 8.22328890e-33\n",
      " 8.22328890e-33 8.22328890e-33 8.22328890e-33 8.22328890e-33\n",
      " 8.22328890e-33 8.22328890e-33 8.22328890e-33 8.22328890e-33\n",
      " 8.22328890e-33 8.22328890e-33 8.22328890e-33 8.22328890e-33\n",
      " 8.22328890e-33 8.22328890e-33 8.22328890e-33 8.22328890e-33\n",
      " 8.22328890e-33 8.22328890e-33 8.22328890e-33 8.22328890e-33\n",
      " 8.22328890e-33 8.22328890e-33 8.22328890e-33 8.22328890e-33\n",
      " 8.22328890e-33 8.22328890e-33 8.22328890e-33 8.22328890e-33\n",
      " 8.22328890e-33 8.22328890e-33 8.22328890e-33 8.22328890e-33\n",
      " 8.22328890e-33 8.22328890e-33 8.22328890e-33 8.22328890e-33\n",
      " 8.22328890e-33 8.22328890e-33 8.22328890e-33 8.22328890e-33\n",
      " 8.22328890e-33 8.22328890e-33 8.22328890e-33 8.22328890e-33\n",
      " 8.22328890e-33 8.22328890e-33 8.22328890e-33 8.22328890e-33\n",
      " 8.22328890e-33 8.22328890e-33 8.22328890e-33 8.22328890e-33\n",
      " 8.22328890e-33 8.22328890e-33 8.22328890e-33 8.22328890e-33\n",
      " 8.22328890e-33 8.22328890e-33 8.22328890e-33 8.22328890e-33\n",
      " 8.22328890e-33 8.22328890e-33 8.22328890e-33 8.22328890e-33\n",
      " 8.22328890e-33 8.22328890e-33 8.22328890e-33 8.22328890e-33\n",
      " 8.22328890e-33 8.22328890e-33 8.22328890e-33 8.22328890e-33\n",
      " 8.22328890e-33 8.22328890e-33 8.22328890e-33 8.22328890e-33\n",
      " 8.22328890e-33 8.22328890e-33 8.22328890e-33 8.22328890e-33\n",
      " 8.22328890e-33 8.22328890e-33 8.22328890e-33 8.22328890e-33\n",
      " 8.22328890e-33 4.18320747e-33 4.08368948e-33 6.89168393e-34]\n"
     ]
    }
   ],
   "source": [
    "# Explained variance ratio of each principal component\n",
    "explained_variance = pca.explained_variance_ratio_\n",
    "print(explained_variance)"
   ]
  },
  {
   "cell_type": "code",
   "execution_count": 29,
   "id": "d6fc99fa",
   "metadata": {},
   "outputs": [
    {
     "name": "stdout",
     "output_type": "stream",
     "text": [
      "[0.91482649 0.08162928 0.00334202]\n",
      "[[-50.60258315 -17.73219444  -0.41028725]\n",
      " [-50.38481542 -17.57775393  -0.40494479]\n",
      " [-50.16704768 -17.42331343  -0.39960232]\n",
      " ...\n",
      " [ 65.1716683  -15.78430483   8.48593104]\n",
      " [ 65.44733322 -15.90230264   9.00111004]\n",
      " [ 64.36946262 -15.28026673  17.1031658 ]]\n"
     ]
    },
    {
     "data": {
      "text/plain": [
       "(400, 3)"
      ]
     },
     "execution_count": 29,
     "metadata": {},
     "output_type": "execute_result"
    }
   ],
   "source": [
    "# Keeping only first 3 principial components\n",
    "pca_2 = PCA(n_components=3)\n",
    "pca_2.fit(matrix_df)\n",
    "print(pca_2.explained_variance_ratio_)\n",
    "\n",
    "# Transform original matrix to principal component space\n",
    "pca_matrix = pca_2.transform(matrix_df)\n",
    "print(pca_matrix)\n",
    "pca_matrix.shape"
   ]
  },
  {
   "cell_type": "code",
   "execution_count": 31,
   "id": "61d43783",
   "metadata": {},
   "outputs": [
    {
     "data": {
      "image/png": "[encoded data removed]",
      "text/plain": [
       "<Figure size 640x480 with 1 Axes>"
      ]
     },
     "metadata": {},
     "output_type": "display_data"
    }
   ],
   "source": [
    "import matplotlib.pyplot as plt\n",
    "\n",
    "# Graph first two principal components\n",
    "x = pca_matrix[:, 0]\n",
    "y = pca_matrix[:, 1]\n",
    "plt.scatter(x,y)\n",
    "plt.xlabel(\"P.C. 1\")\n",
    "plt.ylabel(\"P.C. 2\")\n",
    "plt.show()"
   ]
  }
 ],
 "metadata": {
  "kernelspec": {
   "display_name": "Python 3 (ipykernel)",
   "language": "python",
   "name": "python3"
  },
  "language_info": {
   "codemirror_mode": {
    "name": "ipython",
    "version": 3
   },
   "file_extension": ".py",
   "mimetype": "text/x-python",
   "name": "python",
   "nbconvert_exporter": "python",
   "pygments_lexer": "ipython3",
   "version": "3.9.13"
  }
 },
 "nbformat": 4,
 "nbformat_minor": 5
}
