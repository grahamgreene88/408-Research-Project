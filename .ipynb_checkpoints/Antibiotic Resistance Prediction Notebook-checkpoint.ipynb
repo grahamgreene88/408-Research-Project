{
 "cells": [
  {
   "cell_type": "markdown",
   "id": "e0db52c8",
   "metadata": {},
   "source": [
    "## Project Objective / Business Relevance"
   ]
  },
  {
   "cell_type": "markdown",
   "id": "272da330",
   "metadata": {},
   "source": [
    "*Pseudomonas aeruginosa* frequently infects hospitalized patients and has high morbidity and mortality rates. With antibiotic resistance emerging as a major problem in effective *P. aeruginosa* treatment, innovative testing methods are in high-demand to better inform drug prescriptions. \n",
    "\n",
    "The aim of this project is to build a classification model to accurately predict the susceptiblity of *P. aeruginosa* isolates to the commonly-used drug tobramycin. The model will be trained using *orfN* gene sequences, a gene which has been shown to mutate first to convey tobramycin resistance in the bacteria.\n",
    "\n",
    "This model will hopefully serve as the basis for a rapid anti-microbial susceptibility testing method (AST). Using only one type of gene means significantly less data will be required compared to other proposed methods."
   ]
  },
  {
   "cell_type": "code",
   "execution_count": 139,
   "id": "02c74633",
   "metadata": {},
   "outputs": [],
   "source": [
    "import pandas as pd\n",
    "import numpy as np\n",
    "import matplotlib.pyplot as plt\n",
    "import seaborn as sns"
   ]
  },
  {
   "cell_type": "code",
   "execution_count": 140,
   "id": "0adbb79f",
   "metadata": {},
   "outputs": [],
   "source": [
    "# pd.set_option(\"display.max_rows\", None)\n",
    "# pd.set_option(\"display.max_columns\", None)\n",
    "pd.reset_option(\"display.max_rows\")\n",
    "pd.reset_option(\"display.max_columns\")"
   ]
  },
  {
   "cell_type": "markdown",
   "id": "921b4807",
   "metadata": {},
   "source": [
    "## Importing and Cleaning Data"
   ]
  },
  {
   "cell_type": "markdown",
   "id": "8ba48179",
   "metadata": {},
   "source": [
    "Data will be obtained from two different sources. \n",
    "\n",
    "1. The *orfN* gene sequence data for each isolate was obtained from the BV-BRC database using the reference sequence locus tag “PA14_23460”: https://www.bv-brc.org/view/Feature/PATRIC.208963.12.NC_008463.CDS.2040149.2041165.fwd\n",
    "\n",
    "2. The tobramycin resistance phenotype data was obtained from the “Dataset EV1” file in Khaledi et al. (2020):https://www.embopress.org/doi/full/10.15252/emmm.201910264"
   ]
  },
  {
   "cell_type": "code",
   "execution_count": 141,
   "id": "9f842165",
   "metadata": {},
   "outputs": [
    {
     "data": {
      "text/html": [
       "<div>\n",
       "<style scoped>\n",
       "    .dataframe tbody tr th:only-of-type {\n",
       "        vertical-align: middle;\n",
       "    }\n",
       "\n",
       "    .dataframe tbody tr th {\n",
       "        vertical-align: top;\n",
       "    }\n",
       "\n",
       "    .dataframe thead th {\n",
       "        text-align: right;\n",
       "    }\n",
       "</style>\n",
       "<table border=\"1\" class=\"dataframe\">\n",
       "  <thead>\n",
       "    <tr style=\"text-align: right;\">\n",
       "      <th></th>\n",
       "      <th>Isolate</th>\n",
       "      <th>Length</th>\n",
       "    </tr>\n",
       "  </thead>\n",
       "  <tbody>\n",
       "    <tr>\n",
       "      <th>0</th>\n",
       "      <td>CF592_Iso2</td>\n",
       "      <td>1026</td>\n",
       "    </tr>\n",
       "    <tr>\n",
       "      <th>1</th>\n",
       "      <td>CF609_Iso3</td>\n",
       "      <td>1041</td>\n",
       "    </tr>\n",
       "    <tr>\n",
       "      <th>2</th>\n",
       "      <td>CH2500</td>\n",
       "      <td>1017</td>\n",
       "    </tr>\n",
       "    <tr>\n",
       "      <th>3</th>\n",
       "      <td>CH2527</td>\n",
       "      <td>1026</td>\n",
       "    </tr>\n",
       "    <tr>\n",
       "      <th>4</th>\n",
       "      <td>CH2543</td>\n",
       "      <td>1026</td>\n",
       "    </tr>\n",
       "    <tr>\n",
       "      <th>...</th>\n",
       "      <td>...</td>\n",
       "      <td>...</td>\n",
       "    </tr>\n",
       "    <tr>\n",
       "      <th>376</th>\n",
       "      <td>ZG5089456</td>\n",
       "      <td>1020</td>\n",
       "    </tr>\n",
       "    <tr>\n",
       "      <th>377</th>\n",
       "      <td>ZG8006959</td>\n",
       "      <td>1026</td>\n",
       "    </tr>\n",
       "    <tr>\n",
       "      <th>378</th>\n",
       "      <td>ZG8038581181</td>\n",
       "      <td>885</td>\n",
       "    </tr>\n",
       "    <tr>\n",
       "      <th>379</th>\n",
       "      <td>ZG8510487</td>\n",
       "      <td>1020</td>\n",
       "    </tr>\n",
       "    <tr>\n",
       "      <th>380</th>\n",
       "      <td>ZG8525123</td>\n",
       "      <td>1020</td>\n",
       "    </tr>\n",
       "  </tbody>\n",
       "</table>\n",
       "<p>381 rows × 2 columns</p>\n",
       "</div>"
      ],
      "text/plain": [
       "          Isolate  Length\n",
       "0      CF592_Iso2    1026\n",
       "1      CF609_Iso3    1041\n",
       "2          CH2500    1017\n",
       "3          CH2527    1026\n",
       "4          CH2543    1026\n",
       "..            ...     ...\n",
       "376     ZG5089456    1020\n",
       "377     ZG8006959    1026\n",
       "378  ZG8038581181     885\n",
       "379     ZG8510487    1020\n",
       "380     ZG8525123    1020\n",
       "\n",
       "[381 rows x 2 columns]"
      ]
     },
     "execution_count": 141,
     "metadata": {},
     "output_type": "execute_result"
    }
   ],
   "source": [
    "# Importing gene sequence data\n",
    "seq_df = pd.read_csv('BV-BRC_Allstrains.csv', usecols=[3, 11])\n",
    "seq_df"
   ]
  },
  {
   "cell_type": "code",
   "execution_count": 142,
   "id": "5dbb2417",
   "metadata": {},
   "outputs": [
    {
     "data": {
      "text/html": [
       "<div>\n",
       "<style scoped>\n",
       "    .dataframe tbody tr th:only-of-type {\n",
       "        vertical-align: middle;\n",
       "    }\n",
       "\n",
       "    .dataframe tbody tr th {\n",
       "        vertical-align: top;\n",
       "    }\n",
       "\n",
       "    .dataframe thead th {\n",
       "        text-align: right;\n",
       "    }\n",
       "</style>\n",
       "<table border=\"1\" class=\"dataframe\">\n",
       "  <thead>\n",
       "    <tr style=\"text-align: right;\">\n",
       "      <th></th>\n",
       "      <th>Isolate</th>\n",
       "      <th>TOB</th>\n",
       "    </tr>\n",
       "  </thead>\n",
       "  <tbody>\n",
       "    <tr>\n",
       "      <th>0</th>\n",
       "      <td>CF592_Iso2</td>\n",
       "      <td>S</td>\n",
       "    </tr>\n",
       "    <tr>\n",
       "      <th>1</th>\n",
       "      <td>CF609_Iso3</td>\n",
       "      <td>I</td>\n",
       "    </tr>\n",
       "    <tr>\n",
       "      <th>2</th>\n",
       "      <td>CH2500</td>\n",
       "      <td>S</td>\n",
       "    </tr>\n",
       "    <tr>\n",
       "      <th>3</th>\n",
       "      <td>CH2527</td>\n",
       "      <td>S</td>\n",
       "    </tr>\n",
       "    <tr>\n",
       "      <th>4</th>\n",
       "      <td>CH2543</td>\n",
       "      <td>R</td>\n",
       "    </tr>\n",
       "    <tr>\n",
       "      <th>...</th>\n",
       "      <td>...</td>\n",
       "      <td>...</td>\n",
       "    </tr>\n",
       "    <tr>\n",
       "      <th>372</th>\n",
       "      <td>ZG5089456</td>\n",
       "      <td>R</td>\n",
       "    </tr>\n",
       "    <tr>\n",
       "      <th>373</th>\n",
       "      <td>ZG8006959</td>\n",
       "      <td>R</td>\n",
       "    </tr>\n",
       "    <tr>\n",
       "      <th>374</th>\n",
       "      <td>ZG8038581181</td>\n",
       "      <td>R</td>\n",
       "    </tr>\n",
       "    <tr>\n",
       "      <th>375</th>\n",
       "      <td>ZG8510487</td>\n",
       "      <td>R</td>\n",
       "    </tr>\n",
       "    <tr>\n",
       "      <th>376</th>\n",
       "      <td>ZG8525123</td>\n",
       "      <td>R</td>\n",
       "    </tr>\n",
       "  </tbody>\n",
       "</table>\n",
       "<p>377 rows × 2 columns</p>\n",
       "</div>"
      ],
      "text/plain": [
       "          Isolate TOB\n",
       "0      CF592_Iso2   S\n",
       "1      CF609_Iso3   I\n",
       "2          CH2500   S\n",
       "3          CH2527   S\n",
       "4          CH2543   R\n",
       "..            ...  ..\n",
       "372     ZG5089456   R\n",
       "373     ZG8006959   R\n",
       "374  ZG8038581181   R\n",
       "375     ZG8510487   R\n",
       "376     ZG8525123   R\n",
       "\n",
       "[377 rows x 2 columns]"
      ]
     },
     "execution_count": 142,
     "metadata": {},
     "output_type": "execute_result"
    }
   ],
   "source": [
    "# Importing resistance phenotype data; only importing parts of excel sheet that are needed\n",
    "phen_df = pd.read_csv('BactomeResistanceData.csv', usecols=[1, 3], nrows=377)\n",
    "phen_df"
   ]
  },
  {
   "cell_type": "markdown",
   "id": "7f509f82",
   "metadata": {},
   "source": [
    "The datasets are cross-referenced to see for which isolates we have both types of data."
   ]
  },
  {
   "cell_type": "code",
   "execution_count": 143,
   "id": "85cd4fac",
   "metadata": {
    "scrolled": false
   },
   "outputs": [
    {
     "data": {
      "text/html": [
       "<div>\n",
       "<style scoped>\n",
       "    .dataframe tbody tr th:only-of-type {\n",
       "        vertical-align: middle;\n",
       "    }\n",
       "\n",
       "    .dataframe tbody tr th {\n",
       "        vertical-align: top;\n",
       "    }\n",
       "\n",
       "    .dataframe thead th {\n",
       "        text-align: right;\n",
       "    }\n",
       "</style>\n",
       "<table border=\"1\" class=\"dataframe\">\n",
       "  <thead>\n",
       "    <tr style=\"text-align: right;\">\n",
       "      <th></th>\n",
       "      <th>Isolate</th>\n",
       "      <th>Length</th>\n",
       "    </tr>\n",
       "  </thead>\n",
       "  <tbody>\n",
       "    <tr>\n",
       "      <th>0</th>\n",
       "      <td>CF592_Iso2</td>\n",
       "      <td>1026</td>\n",
       "    </tr>\n",
       "    <tr>\n",
       "      <th>1</th>\n",
       "      <td>CF609_Iso3</td>\n",
       "      <td>1041</td>\n",
       "    </tr>\n",
       "    <tr>\n",
       "      <th>2</th>\n",
       "      <td>CH2500</td>\n",
       "      <td>1017</td>\n",
       "    </tr>\n",
       "    <tr>\n",
       "      <th>3</th>\n",
       "      <td>CH2527</td>\n",
       "      <td>1026</td>\n",
       "    </tr>\n",
       "    <tr>\n",
       "      <th>4</th>\n",
       "      <td>CH2543</td>\n",
       "      <td>1026</td>\n",
       "    </tr>\n",
       "    <tr>\n",
       "      <th>...</th>\n",
       "      <td>...</td>\n",
       "      <td>...</td>\n",
       "    </tr>\n",
       "    <tr>\n",
       "      <th>376</th>\n",
       "      <td>ZG5089456</td>\n",
       "      <td>1020</td>\n",
       "    </tr>\n",
       "    <tr>\n",
       "      <th>377</th>\n",
       "      <td>ZG8006959</td>\n",
       "      <td>1026</td>\n",
       "    </tr>\n",
       "    <tr>\n",
       "      <th>378</th>\n",
       "      <td>ZG8038581181</td>\n",
       "      <td>885</td>\n",
       "    </tr>\n",
       "    <tr>\n",
       "      <th>379</th>\n",
       "      <td>ZG8510487</td>\n",
       "      <td>1020</td>\n",
       "    </tr>\n",
       "    <tr>\n",
       "      <th>380</th>\n",
       "      <td>ZG8525123</td>\n",
       "      <td>1020</td>\n",
       "    </tr>\n",
       "  </tbody>\n",
       "</table>\n",
       "<p>377 rows × 2 columns</p>\n",
       "</div>"
      ],
      "text/plain": [
       "          Isolate  Length\n",
       "0      CF592_Iso2    1026\n",
       "1      CF609_Iso3    1041\n",
       "2          CH2500    1017\n",
       "3          CH2527    1026\n",
       "4          CH2543    1026\n",
       "..            ...     ...\n",
       "376     ZG5089456    1020\n",
       "377     ZG8006959    1026\n",
       "378  ZG8038581181     885\n",
       "379     ZG8510487    1020\n",
       "380     ZG8525123    1020\n",
       "\n",
       "[377 rows x 2 columns]"
      ]
     },
     "execution_count": 143,
     "metadata": {},
     "output_type": "execute_result"
    }
   ],
   "source": [
    "# Dropping extra isolates from seq_df\n",
    "filt = seq_df['Isolate'].isin(phen_df['Isolate'])\n",
    "to_drop = seq_df[filt == False]\n",
    "seq_df.drop(to_drop.index, axis=0, inplace=True)\n",
    "seq_df"
   ]
  },
  {
   "cell_type": "markdown",
   "id": "3bbb9be3",
   "metadata": {},
   "source": [
    "There are 4 isolates in the seq_df dataframe that we do not have phenotype data for. These isolates are dropped.\n",
    "\n",
    "The isolates with “intermediate” susceptibility to tobramycin are dropped to broaden the gap between resistant and susceptible isolates."
   ]
  },
  {
   "cell_type": "code",
   "execution_count": 144,
   "id": "1b90fd26",
   "metadata": {},
   "outputs": [],
   "source": [
    "# Dropping isolates with I from phen_df\n",
    "i_to_drop = phen_df[phen_df['TOB'] == 'I']\n",
    "phen_df.drop(i_to_drop.index, axis=0, inplace=True)\n",
    "\n",
    "# Dropping corresponding isolates from seq_df\n",
    "i_filter = seq_df['Isolate'].isin(i_to_drop['Isolate'])\n",
    "seq_df = seq_df[~i_filter]\n",
    "\n",
    "assert len(phen_df) == len(seq_df)"
   ]
  },
  {
   "cell_type": "markdown",
   "id": "a618e3fd",
   "metadata": {},
   "source": [
    "Outliers for sequence legnth limits are determined using IQR and removed. It is important to remove isolates with significantly different length limits as this would introduce nucleotide differences that are unimportant for classification."
   ]
  },
  {
   "cell_type": "code",
   "execution_count": 147,
   "id": "be89b3ed",
   "metadata": {},
   "outputs": [
    {
     "data": {
      "image/png": "[encoded data removed]",
      "text/plain": [
       "<Figure size 640x480 with 1 Axes>"
      ]
     },
     "metadata": {},
     "output_type": "display_data"
    }
   ],
   "source": [
    "# Plotting box plot of sequence lengths\n",
    "sns.boxplot(data=seq_df, x='Length')\n",
    "palette = sns.color_palette('Set2')\n",
    "sns.set_palette(palette)\n",
    "plt.title(\"Box Plot of Isolate Sequence Lengths\")\n",
    "plt.show()"
   ]
  },
  {
   "cell_type": "code",
   "execution_count": 148,
   "id": "8f059eef",
   "metadata": {},
   "outputs": [
    {
     "data": {
      "text/html": [
       "<div>\n",
       "<style scoped>\n",
       "    .dataframe tbody tr th:only-of-type {\n",
       "        vertical-align: middle;\n",
       "    }\n",
       "\n",
       "    .dataframe tbody tr th {\n",
       "        vertical-align: top;\n",
       "    }\n",
       "\n",
       "    .dataframe thead th {\n",
       "        text-align: right;\n",
       "    }\n",
       "</style>\n",
       "<table border=\"1\" class=\"dataframe\">\n",
       "  <thead>\n",
       "    <tr style=\"text-align: right;\">\n",
       "      <th></th>\n",
       "      <th>Length</th>\n",
       "    </tr>\n",
       "  </thead>\n",
       "  <tbody>\n",
       "    <tr>\n",
       "      <th>count</th>\n",
       "      <td>369.000000</td>\n",
       "    </tr>\n",
       "    <tr>\n",
       "      <th>mean</th>\n",
       "      <td>1012.097561</td>\n",
       "    </tr>\n",
       "    <tr>\n",
       "      <th>std</th>\n",
       "      <td>52.156862</td>\n",
       "    </tr>\n",
       "    <tr>\n",
       "      <th>min</th>\n",
       "      <td>627.000000</td>\n",
       "    </tr>\n",
       "    <tr>\n",
       "      <th>25%</th>\n",
       "      <td>1020.000000</td>\n",
       "    </tr>\n",
       "    <tr>\n",
       "      <th>50%</th>\n",
       "      <td>1026.000000</td>\n",
       "    </tr>\n",
       "    <tr>\n",
       "      <th>75%</th>\n",
       "      <td>1026.000000</td>\n",
       "    </tr>\n",
       "    <tr>\n",
       "      <th>max</th>\n",
       "      <td>1053.000000</td>\n",
       "    </tr>\n",
       "  </tbody>\n",
       "</table>\n",
       "</div>"
      ],
      "text/plain": [
       "            Length\n",
       "count   369.000000\n",
       "mean   1012.097561\n",
       "std      52.156862\n",
       "min     627.000000\n",
       "25%    1020.000000\n",
       "50%    1026.000000\n",
       "75%    1026.000000\n",
       "max    1053.000000"
      ]
     },
     "execution_count": 148,
     "metadata": {},
     "output_type": "execute_result"
    }
   ],
   "source": [
    "seq_df.describe()"
   ]
  },
  {
   "cell_type": "markdown",
   "id": "38faf1c1",
   "metadata": {},
   "source": [
    "From the box plot and the dataframe above, it can be seen that several outliers exist. Some are well below the boxplot whiskers withe lowest at 612 and others are just above the boxplot whiskers. "
   ]
  },
  {
   "cell_type": "code",
   "execution_count": 157,
   "id": "b8dfa002",
   "metadata": {},
   "outputs": [
    {
     "name": "stdout",
     "output_type": "stream",
     "text": [
      "0      0.266912\n",
      "2      0.094122\n",
      "3      0.266912\n",
      "4      0.266912\n",
      "5      0.266912\n",
      "         ...   \n",
      "376    0.151719\n",
      "377    0.266912\n",
      "378    2.440142\n",
      "379    0.151719\n",
      "380    0.151719\n",
      "Name: Length, Length: 369, dtype: float64\n"
     ]
    }
   ],
   "source": [
    "from scipy import stats\n",
    "z = np.abs(stats.zscore(seq_df['Length']))\n",
    "print(z)"
   ]
  },
  {
   "cell_type": "code",
   "execution_count": 160,
   "id": "6c22678a",
   "metadata": {},
   "outputs": [
    {
     "name": "stdout",
     "output_type": "stream",
     "text": [
      "(array([  8,  29,  65,  91, 296]),)\n"
     ]
    }
   ],
   "source": [
    "print(np.where(z > 3))"
   ]
  },
  {
   "cell_type": "code",
   "execution_count": 161,
   "id": "efa7ad85",
   "metadata": {},
   "outputs": [
    {
     "data": {
      "text/html": [
       "<div>\n",
       "<style scoped>\n",
       "    .dataframe tbody tr th:only-of-type {\n",
       "        vertical-align: middle;\n",
       "    }\n",
       "\n",
       "    .dataframe tbody tr th {\n",
       "        vertical-align: top;\n",
       "    }\n",
       "\n",
       "    .dataframe thead th {\n",
       "        text-align: right;\n",
       "    }\n",
       "</style>\n",
       "<table border=\"1\" class=\"dataframe\">\n",
       "  <thead>\n",
       "    <tr style=\"text-align: right;\">\n",
       "      <th></th>\n",
       "      <th>Isolate</th>\n",
       "      <th>Length</th>\n",
       "    </tr>\n",
       "  </thead>\n",
       "  <tbody>\n",
       "    <tr>\n",
       "      <th>9</th>\n",
       "      <td>CH2598</td>\n",
       "      <td>789</td>\n",
       "    </tr>\n",
       "    <tr>\n",
       "      <th>30</th>\n",
       "      <td>CH2734</td>\n",
       "      <td>627</td>\n",
       "    </tr>\n",
       "    <tr>\n",
       "      <th>67</th>\n",
       "      <td>CH4681</td>\n",
       "      <td>789</td>\n",
       "    </tr>\n",
       "    <tr>\n",
       "      <th>93</th>\n",
       "      <td>CH5206</td>\n",
       "      <td>675</td>\n",
       "    </tr>\n",
       "    <tr>\n",
       "      <th>308</th>\n",
       "      <td>MHH17501</td>\n",
       "      <td>807</td>\n",
       "    </tr>\n",
       "  </tbody>\n",
       "</table>\n",
       "</div>"
      ],
      "text/plain": [
       "      Isolate  Length\n",
       "9      CH2598     789\n",
       "30     CH2734     627\n",
       "67     CH4681     789\n",
       "93     CH5206     675\n",
       "308  MHH17501     807"
      ]
     },
     "execution_count": 161,
     "metadata": {},
     "output_type": "execute_result"
    }
   ],
   "source": [
    "seq_df.iloc[[8, 29, 65, 91, 296], :]"
   ]
  },
  {
   "cell_type": "code",
   "execution_count": 159,
   "id": "f6b56a41",
   "metadata": {},
   "outputs": [
    {
     "ename": "ValueError",
     "evalue": "No axis named 1 for object type Series",
     "output_type": "error",
     "traceback": [
      "\u001b[0;31m---------------------------------------------------------------------------\u001b[0m",
      "\u001b[0;31mKeyError\u001b[0m                                  Traceback (most recent call last)",
      "\u001b[0;32m~/anaconda3/envs/DataScience/lib/python3.11/site-packages/pandas/core/generic.py\u001b[0m in \u001b[0;36m?\u001b[0;34m(cls, axis)\u001b[0m\n\u001b[1;32m    513\u001b[0m             \u001b[0;32mreturn\u001b[0m \u001b[0mcls\u001b[0m\u001b[0;34m.\u001b[0m\u001b[0m_AXIS_TO_AXIS_NUMBER\u001b[0m\u001b[0;34m[\u001b[0m\u001b[0maxis\u001b[0m\u001b[0;34m]\u001b[0m\u001b[0;34m\u001b[0m\u001b[0;34m\u001b[0m\u001b[0m\n\u001b[1;32m    514\u001b[0m         \u001b[0;32mexcept\u001b[0m \u001b[0mKeyError\u001b[0m\u001b[0;34m:\u001b[0m\u001b[0;34m\u001b[0m\u001b[0;34m\u001b[0m\u001b[0m\n\u001b[0;32m--> 515\u001b[0;31m             \u001b[0;32mraise\u001b[0m \u001b[0mValueError\u001b[0m\u001b[0;34m(\u001b[0m\u001b[0;34mf\"No axis named {axis} for object type {cls.__name__}\"\u001b[0m\u001b[0;34m)\u001b[0m\u001b[0;34m\u001b[0m\u001b[0;34m\u001b[0m\u001b[0m\n\u001b[0m",
      "\u001b[0;31mKeyError\u001b[0m: 1",
      "\nDuring handling of the above exception, another exception occurred:\n",
      "\u001b[0;31mValueError\u001b[0m                                Traceback (most recent call last)",
      "\u001b[0;32m/var/folders/lw/b_8l9ggd16z8sjbbwh204hf40000gn/T/ipykernel_36746/2359974849.py\u001b[0m in \u001b[0;36m?\u001b[0;34m()\u001b[0m\n\u001b[0;32m----> 1\u001b[0;31m \u001b[0mseq_df\u001b[0m\u001b[0;34m[\u001b[0m\u001b[0;34m'Length'\u001b[0m\u001b[0;34m]\u001b[0m\u001b[0;34m[\u001b[0m\u001b[0;34m(\u001b[0m\u001b[0mz\u001b[0m \u001b[0;34m<\u001b[0m \u001b[0;36m3\u001b[0m\u001b[0;34m)\u001b[0m\u001b[0;34m.\u001b[0m\u001b[0mall\u001b[0m\u001b[0;34m(\u001b[0m\u001b[0maxis\u001b[0m\u001b[0;34m=\u001b[0m\u001b[0;36m1\u001b[0m\u001b[0;34m)\u001b[0m\u001b[0;34m]\u001b[0m\u001b[0;34m\u001b[0m\u001b[0;34m\u001b[0m\u001b[0m\n\u001b[0m",
      "\u001b[0;32m~/anaconda3/envs/DataScience/lib/python3.11/site-packages/pandas/core/generic.py\u001b[0m in \u001b[0;36m?\u001b[0;34m(self, axis, bool_only, skipna, **kwargs)\u001b[0m\n\u001b[1;32m  11352\u001b[0m             \u001b[0mbool_only\u001b[0m\u001b[0;34m=\u001b[0m\u001b[0;32mNone\u001b[0m\u001b[0;34m,\u001b[0m\u001b[0;34m\u001b[0m\u001b[0;34m\u001b[0m\u001b[0m\n\u001b[1;32m  11353\u001b[0m             \u001b[0mskipna\u001b[0m\u001b[0;34m:\u001b[0m \u001b[0mbool_t\u001b[0m \u001b[0;34m=\u001b[0m \u001b[0;32mTrue\u001b[0m\u001b[0;34m,\u001b[0m\u001b[0;34m\u001b[0m\u001b[0;34m\u001b[0m\u001b[0m\n\u001b[1;32m  11354\u001b[0m             \u001b[0;34m**\u001b[0m\u001b[0mkwargs\u001b[0m\u001b[0;34m,\u001b[0m\u001b[0;34m\u001b[0m\u001b[0;34m\u001b[0m\u001b[0m\n\u001b[1;32m  11355\u001b[0m         ):\n\u001b[0;32m> 11356\u001b[0;31m             \u001b[0;32mreturn\u001b[0m \u001b[0mNDFrame\u001b[0m\u001b[0;34m.\u001b[0m\u001b[0mall\u001b[0m\u001b[0;34m(\u001b[0m\u001b[0mself\u001b[0m\u001b[0;34m,\u001b[0m \u001b[0maxis\u001b[0m\u001b[0;34m,\u001b[0m \u001b[0mbool_only\u001b[0m\u001b[0;34m,\u001b[0m \u001b[0mskipna\u001b[0m\u001b[0;34m,\u001b[0m \u001b[0;34m**\u001b[0m\u001b[0mkwargs\u001b[0m\u001b[0;34m)\u001b[0m\u001b[0;34m\u001b[0m\u001b[0;34m\u001b[0m\u001b[0m\n\u001b[0m",
      "\u001b[0;32m~/anaconda3/envs/DataScience/lib/python3.11/site-packages/pandas/core/generic.py\u001b[0m in \u001b[0;36m?\u001b[0;34m(self, axis, bool_only, skipna, **kwargs)\u001b[0m\n\u001b[1;32m  11024\u001b[0m         \u001b[0mbool_only\u001b[0m\u001b[0;34m:\u001b[0m \u001b[0mbool_t\u001b[0m \u001b[0;34m=\u001b[0m \u001b[0;32mFalse\u001b[0m\u001b[0;34m,\u001b[0m\u001b[0;34m\u001b[0m\u001b[0;34m\u001b[0m\u001b[0m\n\u001b[1;32m  11025\u001b[0m         \u001b[0mskipna\u001b[0m\u001b[0;34m:\u001b[0m \u001b[0mbool_t\u001b[0m \u001b[0;34m=\u001b[0m \u001b[0;32mTrue\u001b[0m\u001b[0;34m,\u001b[0m\u001b[0;34m\u001b[0m\u001b[0;34m\u001b[0m\u001b[0m\n\u001b[1;32m  11026\u001b[0m         \u001b[0;34m**\u001b[0m\u001b[0mkwargs\u001b[0m\u001b[0;34m,\u001b[0m\u001b[0;34m\u001b[0m\u001b[0;34m\u001b[0m\u001b[0m\n\u001b[1;32m  11027\u001b[0m     ) -> Series | bool_t:\n\u001b[0;32m> 11028\u001b[0;31m         return self._logical_func(\n\u001b[0m\u001b[1;32m  11029\u001b[0m             \u001b[0;34m\"all\"\u001b[0m\u001b[0;34m,\u001b[0m \u001b[0mnanops\u001b[0m\u001b[0;34m.\u001b[0m\u001b[0mnanall\u001b[0m\u001b[0;34m,\u001b[0m \u001b[0maxis\u001b[0m\u001b[0;34m,\u001b[0m \u001b[0mbool_only\u001b[0m\u001b[0;34m,\u001b[0m \u001b[0mskipna\u001b[0m\u001b[0;34m,\u001b[0m \u001b[0;34m**\u001b[0m\u001b[0mkwargs\u001b[0m\u001b[0;34m\u001b[0m\u001b[0;34m\u001b[0m\u001b[0m\n\u001b[1;32m  11030\u001b[0m         )\n",
      "\u001b[0;32m~/anaconda3/envs/DataScience/lib/python3.11/site-packages/pandas/core/generic.py\u001b[0m in \u001b[0;36m?\u001b[0;34m(self, name, func, axis, bool_only, skipna, **kwargs)\u001b[0m\n\u001b[1;32m  10997\u001b[0m             \u001b[0;32mif\u001b[0m \u001b[0mbool_only\u001b[0m\u001b[0;34m:\u001b[0m\u001b[0;34m\u001b[0m\u001b[0;34m\u001b[0m\u001b[0m\n\u001b[1;32m  10998\u001b[0m                 \u001b[0mobj\u001b[0m \u001b[0;34m=\u001b[0m \u001b[0mself\u001b[0m\u001b[0;34m.\u001b[0m\u001b[0m_get_bool_data\u001b[0m\u001b[0;34m(\u001b[0m\u001b[0;34m)\u001b[0m\u001b[0;34m\u001b[0m\u001b[0;34m\u001b[0m\u001b[0m\n\u001b[1;32m  10999\u001b[0m             \u001b[0;32mreturn\u001b[0m \u001b[0mobj\u001b[0m\u001b[0;34m.\u001b[0m\u001b[0m_reduce_axis1\u001b[0m\u001b[0;34m(\u001b[0m\u001b[0mname\u001b[0m\u001b[0;34m,\u001b[0m \u001b[0mfunc\u001b[0m\u001b[0;34m,\u001b[0m \u001b[0mskipna\u001b[0m\u001b[0;34m=\u001b[0m\u001b[0mskipna\u001b[0m\u001b[0;34m)\u001b[0m\u001b[0;34m\u001b[0m\u001b[0;34m\u001b[0m\u001b[0m\n\u001b[1;32m  11000\u001b[0m \u001b[0;34m\u001b[0m\u001b[0m\n\u001b[0;32m> 11001\u001b[0;31m         return self._reduce(\n\u001b[0m\u001b[1;32m  11002\u001b[0m             \u001b[0mfunc\u001b[0m\u001b[0;34m,\u001b[0m\u001b[0;34m\u001b[0m\u001b[0;34m\u001b[0m\u001b[0m\n\u001b[1;32m  11003\u001b[0m             \u001b[0mname\u001b[0m\u001b[0;34m=\u001b[0m\u001b[0mname\u001b[0m\u001b[0;34m,\u001b[0m\u001b[0;34m\u001b[0m\u001b[0;34m\u001b[0m\u001b[0m\n\u001b[1;32m  11004\u001b[0m             \u001b[0maxis\u001b[0m\u001b[0;34m=\u001b[0m\u001b[0maxis\u001b[0m\u001b[0;34m,\u001b[0m\u001b[0;34m\u001b[0m\u001b[0;34m\u001b[0m\u001b[0m\n",
      "\u001b[0;32m~/anaconda3/envs/DataScience/lib/python3.11/site-packages/pandas/core/series.py\u001b[0m in \u001b[0;36m?\u001b[0;34m(self, op, name, axis, skipna, numeric_only, filter_type, **kwds)\u001b[0m\n\u001b[1;32m   4648\u001b[0m         \"\"\"\n\u001b[1;32m   4649\u001b[0m         \u001b[0mdelegate\u001b[0m \u001b[0;34m=\u001b[0m \u001b[0mself\u001b[0m\u001b[0;34m.\u001b[0m\u001b[0m_values\u001b[0m\u001b[0;34m\u001b[0m\u001b[0;34m\u001b[0m\u001b[0m\n\u001b[1;32m   4650\u001b[0m \u001b[0;34m\u001b[0m\u001b[0m\n\u001b[1;32m   4651\u001b[0m         \u001b[0;32mif\u001b[0m \u001b[0maxis\u001b[0m \u001b[0;32mis\u001b[0m \u001b[0;32mnot\u001b[0m \u001b[0;32mNone\u001b[0m\u001b[0;34m:\u001b[0m\u001b[0;34m\u001b[0m\u001b[0;34m\u001b[0m\u001b[0m\n\u001b[0;32m-> 4652\u001b[0;31m             \u001b[0mself\u001b[0m\u001b[0;34m.\u001b[0m\u001b[0m_get_axis_number\u001b[0m\u001b[0;34m(\u001b[0m\u001b[0maxis\u001b[0m\u001b[0;34m)\u001b[0m\u001b[0;34m\u001b[0m\u001b[0;34m\u001b[0m\u001b[0m\n\u001b[0m\u001b[1;32m   4653\u001b[0m \u001b[0;34m\u001b[0m\u001b[0m\n\u001b[1;32m   4654\u001b[0m         \u001b[0;32mif\u001b[0m \u001b[0misinstance\u001b[0m\u001b[0;34m(\u001b[0m\u001b[0mdelegate\u001b[0m\u001b[0;34m,\u001b[0m \u001b[0mExtensionArray\u001b[0m\u001b[0;34m)\u001b[0m\u001b[0;34m:\u001b[0m\u001b[0;34m\u001b[0m\u001b[0;34m\u001b[0m\u001b[0m\n\u001b[1;32m   4655\u001b[0m             \u001b[0;31m# dispatch to ExtensionArray interface\u001b[0m\u001b[0;34m\u001b[0m\u001b[0;34m\u001b[0m\u001b[0m\n",
      "\u001b[0;32m~/anaconda3/envs/DataScience/lib/python3.11/site-packages/pandas/core/generic.py\u001b[0m in \u001b[0;36m?\u001b[0;34m(cls, axis)\u001b[0m\n\u001b[1;32m    511\u001b[0m     \u001b[0;32mdef\u001b[0m \u001b[0m_get_axis_number\u001b[0m\u001b[0;34m(\u001b[0m\u001b[0mcls\u001b[0m\u001b[0;34m,\u001b[0m \u001b[0maxis\u001b[0m\u001b[0;34m:\u001b[0m \u001b[0mAxis\u001b[0m\u001b[0;34m)\u001b[0m \u001b[0;34m->\u001b[0m \u001b[0mAxisInt\u001b[0m\u001b[0;34m:\u001b[0m\u001b[0;34m\u001b[0m\u001b[0;34m\u001b[0m\u001b[0m\n\u001b[1;32m    512\u001b[0m         \u001b[0;32mtry\u001b[0m\u001b[0;34m:\u001b[0m\u001b[0;34m\u001b[0m\u001b[0;34m\u001b[0m\u001b[0m\n\u001b[1;32m    513\u001b[0m             \u001b[0;32mreturn\u001b[0m \u001b[0mcls\u001b[0m\u001b[0;34m.\u001b[0m\u001b[0m_AXIS_TO_AXIS_NUMBER\u001b[0m\u001b[0;34m[\u001b[0m\u001b[0maxis\u001b[0m\u001b[0;34m]\u001b[0m\u001b[0;34m\u001b[0m\u001b[0;34m\u001b[0m\u001b[0m\n\u001b[1;32m    514\u001b[0m         \u001b[0;32mexcept\u001b[0m \u001b[0mKeyError\u001b[0m\u001b[0;34m:\u001b[0m\u001b[0;34m\u001b[0m\u001b[0;34m\u001b[0m\u001b[0m\n\u001b[0;32m--> 515\u001b[0;31m             \u001b[0;32mraise\u001b[0m \u001b[0mValueError\u001b[0m\u001b[0;34m(\u001b[0m\u001b[0;34mf\"No axis named {axis} for object type {cls.__name__}\"\u001b[0m\u001b[0;34m)\u001b[0m\u001b[0;34m\u001b[0m\u001b[0;34m\u001b[0m\u001b[0m\n\u001b[0m",
      "\u001b[0;31mValueError\u001b[0m: No axis named 1 for object type Series"
     ]
    }
   ],
   "source": [
    "seq_df['Length'][(z < 3).all(axis=1)]"
   ]
  },
  {
   "cell_type": "code",
   "execution_count": 162,
   "id": "b422391c",
   "metadata": {},
   "outputs": [
    {
     "data": {
      "text/plain": [
       "115"
      ]
     },
     "execution_count": 162,
     "metadata": {},
     "output_type": "execute_result"
    }
   ],
   "source": [
    "Q1 = seq_df['Length'].quantile(0.25)\n",
    "Q3 = seq_df['Length'].quantile(0.75)\n",
    "IQR = Q3 - Q1\n",
    "outliers_filter = (seq_df['Length'] < (Q1 - 1.5 * IQR)) | (seq_df['Length'] > (Q3 + 1.5 * IQR))\n",
    "outliers = seq_df[outliers_filter]\n",
    "outliers['Length'].unique()\n",
    "len(outliers)"
   ]
  },
  {
   "cell_type": "code",
   "execution_count": null,
   "id": "fd81c398",
   "metadata": {},
   "outputs": [],
   "source": [
    "# Trying to use smaller range\n",
    "# Creating bounds for gene length filtering\n",
    "lower_lim = 1017 - 36\n",
    "upper_lim = 1017 + 36\n",
    "\n",
    "# Dropping isolates outside of length bounds from seq_df\n",
    "len_to_drop = seq_df[(seq_df['Length'] > upper_lim) | (seq_df['Length'] < lower_lim)]\n",
    "seq_df = seq_df.drop(len_to_drop.index, axis=0)\n",
    "\n",
    "# Dropping corresponding isolates from phen_df\n",
    "len_filter = phen_df['Isolate'].isin(len_to_drop['Bv-BRC Strains'])\n",
    "phen_df = phen_df[~len_filter]\n",
    "\n",
    "print(f\"Length of phen_df: {len(phen_df)}, length of seq_df: {len(seq_df)}\")"
   ]
  },
  {
   "cell_type": "markdown",
   "id": "285ac170",
   "metadata": {},
   "source": [
    "This cleaning has left us with 334 isolates. The next step is to use multiple sequence alignment (MSA) using the BV-BRC website. This technique uses the “Mafft” aligner to align the isolate gene sequences as best as possible relative to the PA14 reference *orfN* sequence taken from the Pseudomonas Genome Database: https://www.pseudomonas.com/feature/show/?id=1654623&view=sequence\n",
    "\n",
    "**possible improvments could be doing MSA with consensus as reference sequence OR not using a reference sequence**"
   ]
  },
  {
   "cell_type": "code",
   "execution_count": null,
   "id": "e8337310",
   "metadata": {},
   "outputs": [],
   "source": [
    "from Bio import AlignIO\n",
    "# Load MSA file in FASTA format\n",
    "msa = AlignIO.read('MSA - 04-11-23.afa', 'fasta')\n",
    "msa"
   ]
  },
  {
   "cell_type": "code",
   "execution_count": null,
   "id": "21f49a2d",
   "metadata": {},
   "outputs": [],
   "source": [
    "# Create a dataframe for msa\n",
    "msa_df = pd.DataFrame()\n",
    "# Add sequences from msa to dataframe\n",
    "for i, record in enumerate(msa):\n",
    "    msa_df[i] = list(record.seq)\n",
    "# Flip rows and columns\n",
    "msa_df = msa_df.transpose()\n",
    "pd.reset_option(\"display.max_rows\")\n",
    "pd.reset_option(\"display.max_columns\")"
   ]
  },
  {
   "cell_type": "code",
   "execution_count": null,
   "id": "7d4864ff",
   "metadata": {},
   "outputs": [],
   "source": [
    "# Missing values are in present as '-' \n",
    "msa_df.replace('-', np.nan, inplace=True)"
   ]
  },
  {
   "cell_type": "code",
   "execution_count": null,
   "id": "32d266f9",
   "metadata": {},
   "outputs": [],
   "source": [
    "# Determining # columns with missing values\n",
    "na_columns = msa_df.columns[msa_df.isnull().any()]\n",
    "num_na_columns = len(na_columns)\n",
    "print(f\"There are {num_na_columns} columns with missing values.\")"
   ]
  },
  {
   "cell_type": "markdown",
   "id": "8ae92aed",
   "metadata": {},
   "source": [
    "These columns represent only ~10% of features so they will be dropped to facilitate feature encoding. There are still a large number of features for the models to learn from even after dropping these. Alternatively, the missing values could be imputed with mean values which would prevent eliminating features."
   ]
  },
  {
   "cell_type": "code",
   "execution_count": null,
   "id": "ee015c0b",
   "metadata": {},
   "outputs": [],
   "source": [
    "# Dropping columns with missing values\n",
    "msa_df = msa_df.dropna(axis=1)\n",
    "# Ensuring columns have been dropped\n",
    "na_columns = msa_df.columns[msa_df.isnull().any()]\n",
    "num_na_columns = len(na_columns)\n",
    "print(f\"There are {num_na_columns} columns with missing values.\")"
   ]
  },
  {
   "cell_type": "code",
   "execution_count": null,
   "id": "0da20cb2",
   "metadata": {},
   "outputs": [],
   "source": [
    "# Set the index labels to the BRC ID's for each isolate\n",
    "msa_df.index = [rec.id for rec in msa]\n",
    "msa_df.replace('|', ':', inplace=True)\n",
    "msa_df"
   ]
  },
  {
   "cell_type": "code",
   "execution_count": null,
   "id": "8455bac0",
   "metadata": {},
   "outputs": [],
   "source": [
    "# Importing dataframe with corresponding BRC-ID's and strain names\n",
    "mapping_df = pd.read_csv('BV-BRC ID Data.csv', usecols=['Strain', 'BRC ID', 'Length'])\n",
    "# Dropping isolates outside of length bounds\n",
    "len_to_drop = mapping_df[(mapping_df['Length'] > upper_lim) | (mapping_df['Length'] < lower_lim)]\n",
    "mapping_df = mapping_df.drop(len_to_drop.index, axis=0)\n",
    "# Replacing \":\" with \"|\" in strain names\n",
    "mapping_df['BRC ID'] = mapping_df['BRC ID'].str.replace(':', '|')\n",
    "# Creating dictionnary that maps BRC ID's to strain names\n",
    "mapping_dict = dict(zip(mapping_df['BRC ID'], mapping_df['Strain']))\n",
    "# Rename msa_df index with mapping dictionnary\n",
    "msa_df.index = msa_df.index.map(mapping_dict)\n",
    "msa_df"
   ]
  },
  {
   "cell_type": "code",
   "execution_count": null,
   "id": "30de88c1",
   "metadata": {},
   "outputs": [],
   "source": [
    "# Dropping reference PA14 strain rows\n",
    "msa_df = msa_df.drop(['Reference PA14', 'UCBPP-PA14'])\n",
    "msa_df"
   ]
  },
  {
   "cell_type": "code",
   "execution_count": null,
   "id": "5e45e0a4",
   "metadata": {},
   "outputs": [],
   "source": [
    "# Changing nucleotides to upper case\n",
    "msa_df = msa_df.apply(lambda x: x.str.upper())\n",
    "msa_df.head(2)"
   ]
  },
  {
   "cell_type": "code",
   "execution_count": null,
   "id": "5ebe1589",
   "metadata": {},
   "outputs": [],
   "source": [
    "# Looking at how many different nucleotides occur at each position\n",
    "describe_df = msa_df.describe()\n",
    "describe_df"
   ]
  },
  {
   "cell_type": "code",
   "execution_count": null,
   "id": "cfb64b01",
   "metadata": {},
   "outputs": [],
   "source": [
    "# Filter df for columns where nucleotides are constant for all isolates\n",
    "constant_col = describe_df.loc['unique', describe_df.loc['unique'] == 1]\n",
    "cols_to_drop = constant_col.index.tolist()"
   ]
  },
  {
   "cell_type": "code",
   "execution_count": null,
   "id": "bfaf59af",
   "metadata": {},
   "outputs": [],
   "source": [
    "# Constant columns are dropped - will not contribute to model learning\n",
    "msa_df.drop(cols_to_drop, axis=1, inplace=True)\n",
    "msa_df.shape"
   ]
  },
  {
   "cell_type": "markdown",
   "id": "aa88b84a",
   "metadata": {},
   "source": [
    "The susceptibility labels ('S' or 'R') will now be added for each isolate"
   ]
  },
  {
   "cell_type": "code",
   "execution_count": null,
   "id": "113b395a",
   "metadata": {},
   "outputs": [],
   "source": [
    "# Importing phenotype data\n",
    "phenotype_df = pd.read_excel('IsolatePhenotypes.xlsx', index_col=0)\n",
    "# Merge phenotype dataframe with original MSA dataframe on isolate name (index) columns\n",
    "msa_df = msa_df.merge(phenotype_df, left_index=True, right_index=True)\n",
    "msa_df"
   ]
  },
  {
   "cell_type": "markdown",
   "id": "ffc901cb",
   "metadata": {},
   "source": [
    "## Data Exploration"
   ]
  },
  {
   "cell_type": "code",
   "execution_count": null,
   "id": "bacfacea",
   "metadata": {},
   "outputs": [],
   "source": [
    "# Plotting counts for each phenotype\n",
    "ax = sns.countplot(data=msa_df, x='Phenotype', palette='Set2')\n",
    "# Adding count labels to bars\n",
    "counts = msa_df['Phenotype'].value_counts().values\n",
    "ax.bar_label(container=ax.containers[0], labels=counts)\n",
    "plt.title(\"Number of Observations with each Phenotype\")\n",
    "plt.show()"
   ]
  },
  {
   "cell_type": "code",
   "execution_count": null,
   "id": "fa23c242",
   "metadata": {},
   "outputs": [],
   "source": [
    "# Separating isolates into two dataframes based on susceptibility\n",
    "res_df = msa_df[msa_df['Phenotype'] == 'R']\n",
    "res_df.drop('Phenotype', axis=1, inplace=True)\n",
    "sus_df = msa_df[msa_df['Phenotype'] == 'S']\n",
    "sus_df.drop('Phenotype', axis=1, inplace=True)\n",
    "print(f\"There are {len(res_df)} resistant isolates and {len(sus_df)} susceptible isolates.\")"
   ]
  },
  {
   "cell_type": "markdown",
   "id": "d2eb8705",
   "metadata": {},
   "source": [
    "**This imbalance between resistant and susceptible isolates is important to note. This will be accounted for later in model development. For now, the frequencies of each nucleotide will be normalized to get a proportion so the nuc frequency in resistant isolates can be fairly compared to the nuc frequency in susceptible isolates.**"
   ]
  },
  {
   "cell_type": "code",
   "execution_count": null,
   "id": "0ff7a175",
   "metadata": {},
   "outputs": [],
   "source": [
    "# Creating dataframe for nucleotide frequencies (one for susceptible one for resistant isolates)\n",
    "dfs = [res_df, sus_df]\n",
    "nuc_freq_dfs = []\n",
    "for df in dfs:    \n",
    "    # Making a list that contains nucleotides for each sequence\n",
    "    sequences = []\n",
    "    for i in df.index:\n",
    "        seq_list = df.loc[i, :].values.tolist()\n",
    "        sequences.append(seq_list)\n",
    "\n",
    "    # sequences is now a list of lists, convert to list of strings\n",
    "    sequences = [''.join(sequence) for sequence in sequences]\n",
    "\n",
    "    # Creating daframe for nucleotide frequencies\n",
    "    frequencies = []\n",
    "    for i in range(len(sequences[0])):\n",
    "        counts = {'A': 0, 'T': 0, 'G': 0, 'C': 0}\n",
    "        for sequence in sequences:\n",
    "            counts[sequence[i]] += 1\n",
    "        frequencies.append(counts)\n",
    "\n",
    "    df_freq = pd.DataFrame(frequencies, index=df.columns)\n",
    "    df_freq.index.names = ['Position']\n",
    "    df_freq.columns = ['A', 'T', 'G', 'C']\n",
    "    nuc_freq_dfs.append(df_freq)"
   ]
  },
  {
   "cell_type": "code",
   "execution_count": null,
   "id": "3623778c",
   "metadata": {},
   "outputs": [],
   "source": [
    "# Assigning dataframes to res and sus\n",
    "res_nuc_freq = nuc_freq_dfs[0]\n",
    "sus_nuc_freq = nuc_freq_dfs[1]\n",
    "# Turning rows into proportion of total nucleotides\n",
    "res_nuc_prop = res_nuc_freq.div(res_nuc_freq.sum(axis=1), axis=0)\n",
    "sus_nuc_prop = sus_nuc_freq.div(sus_nuc_freq.sum(axis=1), axis=0)"
   ]
  },
  {
   "cell_type": "code",
   "execution_count": null,
   "id": "dc039986",
   "metadata": {},
   "outputs": [],
   "source": [
    "# Adding phenotype column to each df\n",
    "res_nuc_prop['Phenotype'] = 'R'\n",
    "sus_nuc_prop['Phenotype'] = 'S'\n",
    "# Combining df's for better visualization\n",
    "combined_df = pd.concat([res_nuc_prop, sus_nuc_prop])\n",
    "combined_df\n",
    "# Melting df to allow visualization\n",
    "melted_df = pd.melt(combined_df, id_vars=['Phenotype'], value_vars=['A', 'T', 'G', 'C'], var_name='Nucleotide',\n",
    "                   value_name='Proportion')"
   ]
  },
  {
   "cell_type": "code",
   "execution_count": null,
   "id": "0178895a",
   "metadata": {},
   "outputs": [],
   "source": [
    "# Visualize distribution of nucelotides\n",
    "sns.set_style('darkgrid')\n",
    "sns.set_palette('tab10')\n",
    "sns.boxplot(data=melted_df, y='Phenotype', x='Proportion', hue='Nucleotide', palette='Set2')\n",
    "plt.legend(title='Nucleotide', loc='upper right', bbox_to_anchor=(1.2, 1))\n",
    "plt.title(\"Distribution of Nucleotide Proportions based on Phenotype\")\n",
    "plt.show()"
   ]
  },
  {
   "cell_type": "markdown",
   "id": "45ff4847",
   "metadata": {},
   "source": [
    "From the box plot above, it can be seen that the distribution of nucleotide proportions between resistant and\n",
    "susceptible isolates are similar. The IQR and range between Q1 and Q4 are similar for all nucleotides. The main differences are in the median proportion values for T and G bewteen isolate phenotypes but this is not a very meaningful difference."
   ]
  },
  {
   "cell_type": "code",
   "execution_count": null,
   "id": "70b3b587",
   "metadata": {
    "scrolled": true
   },
   "outputs": [],
   "source": [
    "# A scatterplot matrix for each nucleotide and highlighted phenotypes\n",
    "sns.pairplot(data=combined_df, vars=['A', 'T', 'G', 'C'], kind='scatter', hue='Phenotype', plot_kws={'s':5},\n",
    "            palette='Set2')\n",
    "# plt.title(\"Scatterplot Matrix for each Nucleotide and Phenotype\")\n",
    "plt.show()"
   ]
  },
  {
   "cell_type": "markdown",
   "id": "8cf59af6",
   "metadata": {},
   "source": [
    "The scatterplot matrix above shows that there are no commonly repeated major differences between nucleotide \n",
    "proportions for different phenotypes."
   ]
  },
  {
   "cell_type": "markdown",
   "id": "68d20dbb",
   "metadata": {},
   "source": [
    "## Feature Preparation"
   ]
  },
  {
   "cell_type": "markdown",
   "id": "b2792f96",
   "metadata": {},
   "source": [
    "The current categorical features should be converted to numerical values to achieve the best performance using a variety of models. For the target phenotypes this is simply converting 'S' and 'R' to 0 and 1 respectively.\n",
    "\n",
    "To convert the features a few options exist. One option is to convert each letter to a corresping number (e.g. A:1, T:2, C:3, G:4). This is likely suitable although the magnitude of the numbers implies a false closeness of values. For example, a value of 1 is closer to 2 than 3 however an A nucleotide is no closer to T than to C.\n",
    "\n",
    "***To avoid this, the categorical nucleotide can be one hot encoded. This would result in an example sequence of 'ACGT' being converted into an array of the form [[1. 0. 0. 0.] [0. 1. 0. 0.] [0. 0. 1. 0.] [0. 0. 0. 1.]]. This may make interpreting the results slightly harder but we will see."
   ]
  },
  {
   "cell_type": "code",
   "execution_count": null,
   "id": "f849983c",
   "metadata": {},
   "outputs": [],
   "source": [
    "msa_df"
   ]
  },
  {
   "cell_type": "code",
   "execution_count": null,
   "id": "5628df75",
   "metadata": {},
   "outputs": [],
   "source": [
    "# Converting phenotype column to numerical 0 and 1\n",
    "msa_df['Phenotype'] = msa_df['Phenotype'].replace({'S': 0, 'R': 1})\n",
    "msa_df['Phenotype'].value_counts()"
   ]
  },
  {
   "cell_type": "code",
   "execution_count": null,
   "id": "c00206d3",
   "metadata": {},
   "outputs": [],
   "source": [
    "# Converting dataframe to numpy array\n",
    "data = msa_df.values\n",
    "data.shape"
   ]
  },
  {
   "cell_type": "code",
   "execution_count": null,
   "id": "c5f6c801",
   "metadata": {},
   "outputs": [],
   "source": [
    "# Converting categorical features to numerical\n",
    "from sklearn.preprocessing import OneHotEncoder\n",
    "# the first column is dropped since all of the information is still present in the remaining columns\n",
    "encoder = OneHotEncoder(sparse_output=False, drop='first')\n",
    "encoder.fit(data)\n",
    "encoder.categories_\n",
    "num_data = encoder.transform(data)\n",
    "num_data.shape"
   ]
  },
  {
   "cell_type": "code",
   "execution_count": null,
   "id": "bb5bb8d8",
   "metadata": {},
   "outputs": [],
   "source": [
    "from imblearn.over_sampling import SMOTE\n",
    "# Separating data into X and y\n",
    "y = num_data[:, -1]\n",
    "X = num_data[:, :-1]\n",
    "# Oversampling is used to fix the major class imbalance\n",
    "over_sampling = SMOTE(random_state=50)\n",
    "X, y = over_sampling.fit_resample(X, y)\n",
    "X.shape"
   ]
  },
  {
   "cell_type": "code",
   "execution_count": null,
   "id": "cbad0ef4",
   "metadata": {},
   "outputs": [],
   "source": [
    "from sklearn.model_selection import train_test_split\n",
    "# Separating data into train and test sets, stratify is not necessary because of oversampling\n",
    "X_train, X_test, y_train, y_test = train_test_split(X, y, test_size=0.2, random_state=50)"
   ]
  },
  {
   "cell_type": "markdown",
   "id": "b8aa5858",
   "metadata": {},
   "source": [
    "## Modeling"
   ]
  },
  {
   "cell_type": "code",
   "execution_count": null,
   "id": "b5b824ef",
   "metadata": {},
   "outputs": [],
   "source": [
    "from sklearn.model_selection import cross_val_score\n",
    "from sklearn.model_selection import KFold\n",
    "from sklearn.linear_model import LogisticRegression\n",
    "from sklearn.ensemble import RandomForestClassifier\n",
    "from sklearn.svm import SVC"
   ]
  },
  {
   "cell_type": "code",
   "execution_count": null,
   "id": "d61e4046",
   "metadata": {},
   "outputs": [],
   "source": [
    "# Cross validation for 4 different models\n",
    "models = {'logistic_regression': LogisticRegression(), 'random_forest': RandomForestClassifier(), 'supper_vector_machine':\n",
    "         SVC()}\n",
    "results=[]\n",
    "for model in models.values():\n",
    "    kf = KFold(n_splits=5, shuffle=True, random_state=50)\n",
    "    cv_accuracy = cross_val_score(model, X_train, y_train, cv=kf)\n",
    "    # appending RMSE scores from cross-val for each model to the list of results\n",
    "    results.append(cv_accuracy)"
   ]
  },
  {
   "cell_type": "code",
   "execution_count": null,
   "id": "1f2c550c",
   "metadata": {},
   "outputs": [],
   "source": [
    "plt.boxplot(results, labels=models.keys())\n",
    "plt.ylabel('Accuracy')\n",
    "plt.show()\n",
    "print(results)"
   ]
  }
 ],
 "metadata": {
  "kernelspec": {
   "display_name": "Python 3 (ipykernel)",
   "language": "python",
   "name": "python3"
  },
  "language_info": {
   "codemirror_mode": {
    "name": "ipython",
    "version": 3
   },
   "file_extension": ".py",
   "mimetype": "text/x-python",
   "name": "python",
   "nbconvert_exporter": "python",
   "pygments_lexer": "ipython3",
   "version": "3.11.5"
  }
 },
 "nbformat": 4,
 "nbformat_minor": 5
}
