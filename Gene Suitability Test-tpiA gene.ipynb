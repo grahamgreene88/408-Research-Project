{
 "cells": [
  {
   "cell_type": "code",
   "execution_count": 1,
   "id": "3c856de8",
   "metadata": {},
   "outputs": [],
   "source": [
    "# The following code will solve 2 optimization problems:\n",
    "# 1. The minimum flux through orfN gene (while still having biomass synthesis)\n",
    "# 2. The max flux through orfN gene"
   ]
  },
  {
   "cell_type": "code",
   "execution_count": 2,
   "id": "5e80621c",
   "metadata": {},
   "outputs": [
    {
     "data": {
      "text/html": [
       "\n",
       "        <table>\n",
       "            <tr>\n",
       "                <td><strong>Name</strong></td>\n",
       "                <td>iSDXXXX</td>\n",
       "            </tr><tr>\n",
       "                <td><strong>Memory address</strong></td>\n",
       "                <td>10410dd60</td>\n",
       "            </tr><tr>\n",
       "                <td><strong>Number of metabolites</strong></td>\n",
       "                <td>1642</td>\n",
       "            </tr><tr>\n",
       "                <td><strong>Number of reactions</strong></td>\n",
       "                <td>2021</td>\n",
       "            </tr><tr>\n",
       "                <td><strong>Number of genes</strong></td>\n",
       "                <td>1510</td>\n",
       "            </tr><tr>\n",
       "                <td><strong>Number of groups</strong></td>\n",
       "                <td>7</td>\n",
       "            </tr><tr>\n",
       "                <td><strong>Objective expression</strong></td>\n",
       "                <td>1.0*BIOMASS_PA14_v27M - 1.0*BIOMASS_PA14_v27M_reverse_0dc58</td>\n",
       "            </tr><tr>\n",
       "                <td><strong>Compartments</strong></td>\n",
       "                <td>cytosol, extracellular space, periplasm</td>\n",
       "            </tr>\n",
       "          </table>"
      ],
      "text/plain": [
       "<Model iSDXXXX at 0x10410dd60>"
      ]
     },
     "execution_count": 2,
     "metadata": {},
     "output_type": "execute_result"
    }
   ],
   "source": [
    "# importing PA14 metabolic model of P. aeruginosa\n",
    "import cobra\n",
    "model = cobra.io.read_sbml_model(\"iSD1509MModel.xml\")\n",
    "model"
   ]
  },
  {
   "cell_type": "code",
   "execution_count": 3,
   "id": "57ddfaa6",
   "metadata": {},
   "outputs": [],
   "source": [
    "default_bounds = {}\n",
    "for rs in model.reactions:\n",
    "    default_bounds[rs.id] = rs.bounds\n",
    "    \n",
    "# Making resetting model function\n",
    "def reset_model(model, def_bounds, obj):\n",
    "    for rs in model.reactions:\n",
    "        rs.bounds = def_bounds[rs.id]\n",
    "        \n",
    "        rs.objective_coefficient\n",
    "        \n",
    "        if rs.id == obj:\n",
    "            rs.objective_coefficient = 1\n",
    "\n",
    "reset_model(model, default_bounds, 'BIOMASS_PA14_v27M')"
   ]
  },
  {
   "cell_type": "code",
   "execution_count": 4,
   "id": "2905f020",
   "metadata": {},
   "outputs": [
    {
     "name": "stdout",
     "output_type": "stream",
     "text": [
      "TPI: dhap_c <=> g3p_c\n"
     ]
    }
   ],
   "source": [
    "# tpiA gene involved in glycolysis\n",
    "my_gene = model.genes.get_by_id(\"PA14_62830\")\n",
    "for rxns in my_gene.reactions:\n",
    "    print(rxns)"
   ]
  },
  {
   "cell_type": "code",
   "execution_count": 5,
   "id": "c0881c0f",
   "metadata": {},
   "outputs": [
    {
     "name": "stdout",
     "output_type": "stream",
     "text": [
      "TPI\tTriose-phosphate isomerase\tdhap_c <=> g3p_c\n"
     ]
    }
   ],
   "source": [
    "# tpiA catalyzed reaction\n",
    "tpiA_rxn = model.reactions.get_by_id('TPI')\n",
    "print(f'{tpiA_rxn.id}\\t{tpiA_rxn.name}\\t{tpiA_rxn.reaction}')"
   ]
  },
  {
   "cell_type": "code",
   "execution_count": 6,
   "id": "eb9d35c0",
   "metadata": {},
   "outputs": [
    {
     "name": "stdout",
     "output_type": "stream",
     "text": [
      "frozenset({<Reaction TPI at 0x13b268670>})\n"
     ]
    }
   ],
   "source": [
    "tpiA = model.genes.PA14_62830\n",
    "reactions_tpiA = tpiA.reactions\n",
    "print(tpiA.reactions)"
   ]
  },
  {
   "cell_type": "code",
   "execution_count": 7,
   "id": "d749c228",
   "metadata": {},
   "outputs": [
    {
     "name": "stdout",
     "output_type": "stream",
     "text": [
      "both bounds: (-999999.0, 999999.0)\n",
      "\n",
      "TPI\n",
      "===\n",
      "dhap_c <=> g3p_c\n",
      "Bounds: -999999.0, 999999.0\n",
      "Flux: -0.4191\n",
      "\n"
     ]
    }
   ],
   "source": [
    "# tpiA bounds\n",
    "print(f'both bounds: {tpiA_rxn.bounds}') # in mmol/(gdW.hr)\n",
    "print(tpiA_rxn.summary())"
   ]
  },
  {
   "cell_type": "code",
   "execution_count": 8,
   "id": "c678fc5c",
   "metadata": {},
   "outputs": [
    {
     "name": "stdout",
     "output_type": "stream",
     "text": [
      "The objective function is: BIOMASS_PA14_v27M\n"
     ]
    }
   ],
   "source": [
    "# Checking objective function\n",
    "for reactions in model.reactions:\n",
    "    if reactions.objective_coefficient == 1:\n",
    "        print(f'The objective function is: {reactions.id}')"
   ]
  },
  {
   "cell_type": "code",
   "execution_count": 9,
   "id": "3812008c",
   "metadata": {},
   "outputs": [
    {
     "data": {
      "text/html": [
       "<strong><em>Optimal</em> solution with objective value 1.591</strong><br><div>\n",
       "<style scoped>\n",
       "    .dataframe tbody tr th:only-of-type {\n",
       "        vertical-align: middle;\n",
       "    }\n",
       "\n",
       "    .dataframe tbody tr th {\n",
       "        vertical-align: top;\n",
       "    }\n",
       "\n",
       "    .dataframe thead th {\n",
       "        text-align: right;\n",
       "    }\n",
       "</style>\n",
       "<table border=\"1\" class=\"dataframe\">\n",
       "  <thead>\n",
       "    <tr style=\"text-align: right;\">\n",
       "      <th></th>\n",
       "      <th>fluxes</th>\n",
       "      <th>reduced_costs</th>\n",
       "    </tr>\n",
       "  </thead>\n",
       "  <tbody>\n",
       "    <tr>\n",
       "      <th>1PPDCRc</th>\n",
       "      <td>0.0</td>\n",
       "      <td>-6.820692e-02</td>\n",
       "    </tr>\n",
       "    <tr>\n",
       "      <th>2AGPE140tipp</th>\n",
       "      <td>0.0</td>\n",
       "      <td>0.000000e+00</td>\n",
       "    </tr>\n",
       "    <tr>\n",
       "      <th>2AGPE141tipp</th>\n",
       "      <td>0.0</td>\n",
       "      <td>0.000000e+00</td>\n",
       "    </tr>\n",
       "    <tr>\n",
       "      <th>2AGPG140tipp</th>\n",
       "      <td>0.0</td>\n",
       "      <td>0.000000e+00</td>\n",
       "    </tr>\n",
       "    <tr>\n",
       "      <th>2AGPG141tipp</th>\n",
       "      <td>0.0</td>\n",
       "      <td>0.000000e+00</td>\n",
       "    </tr>\n",
       "    <tr>\n",
       "      <th>...</th>\n",
       "      <td>...</td>\n",
       "      <td>...</td>\n",
       "    </tr>\n",
       "    <tr>\n",
       "      <th>SHGO</th>\n",
       "      <td>0.0</td>\n",
       "      <td>-6.252301e-02</td>\n",
       "    </tr>\n",
       "    <tr>\n",
       "      <th>ACTD2_SS</th>\n",
       "      <td>0.0</td>\n",
       "      <td>5.011382e-17</td>\n",
       "    </tr>\n",
       "    <tr>\n",
       "      <th>23DHBSpp</th>\n",
       "      <td>0.0</td>\n",
       "      <td>0.000000e+00</td>\n",
       "    </tr>\n",
       "    <tr>\n",
       "      <th>ACPS1</th>\n",
       "      <td>0.0</td>\n",
       "      <td>-6.820692e-02</td>\n",
       "    </tr>\n",
       "    <tr>\n",
       "      <th>ACPpds</th>\n",
       "      <td>0.0</td>\n",
       "      <td>3.035766e-18</td>\n",
       "    </tr>\n",
       "  </tbody>\n",
       "</table>\n",
       "<p>2021 rows × 2 columns</p>\n",
       "</div>"
      ],
      "text/plain": [
       "<Solution 1.591 at 0x13baa2670>"
      ]
     },
     "execution_count": 9,
     "metadata": {},
     "output_type": "execute_result"
    }
   ],
   "source": [
    "solution = model.optimize()\n",
    "solution"
   ]
  },
  {
   "cell_type": "markdown",
   "id": "c11cafa2",
   "metadata": {},
   "source": [
    "## Maximizing flux through reaction"
   ]
  },
  {
   "cell_type": "code",
   "execution_count": 10,
   "id": "50f03d40",
   "metadata": {},
   "outputs": [
    {
     "name": "stdout",
     "output_type": "stream",
     "text": [
      "-0.01317350334533\n"
     ]
    }
   ],
   "source": [
    "for rxns in reactions_tpiA:\n",
    "    #reset model\n",
    "    reset_model(model, default_bounds, 'BIOMASS_PA14_v27M')\n",
    "    \n",
    "    # Limit growth to minimum of 0.05\n",
    "    model.reactions.BIOMASS_PA14_v27M.bounds = 0.05, 1000\n",
    "\n",
    "    # Make rxn of interest the objective function\n",
    "    model.reactions.BIOMASS_PA14_v27M.objective_coefficient = 0\n",
    "    rxns.objective_coefficient = 1\n",
    "    \n",
    "     # Optimize model to maximize flux through rxn\n",
    "    max_flux = model.optimize(objective_sense='maximize')\n",
    "    print(max_flux.objective_value)"
   ]
  },
  {
   "cell_type": "code",
   "execution_count": 11,
   "id": "d3da1eee",
   "metadata": {},
   "outputs": [],
   "source": [
    "max_flux_val = max_flux.objective_value"
   ]
  },
  {
   "cell_type": "code",
   "execution_count": 12,
   "id": "5c8566db",
   "metadata": {},
   "outputs": [
    {
     "name": "stdout",
     "output_type": "stream",
     "text": [
      "\n",
      "BIOMASS_PA14_v27M\n",
      "=================\n",
      "0.0002629250362 2fe2s_c + 0.0218082581186 PA_core_lipidA_c + 0.5114586280634 ala__L_c + 0.3347179859799 arg__L_c + 0.1163039750092 asn__L_c + 0.2337604590002 asp__L_c + 70.4958884983908 atp_c + 0.0072362236879 clpn160_c + 0.0038348089867 clpn161_c + 0.000348176308 clpn180_c + 0.0109468579074 clpn181_c + 0.0004942642694 clpn_pa_17_0_cyc_c + 0.000900875762 clpn_pa_19_0_cyc_c + 0.0001971967204 coa_c + 0.161115895419 ctp_c + 0.0442179279331 cys__L_c + 0.0127328513395 datp_c + 0.0250500903207 dctp_c + 0.0250500903207 dgtp_c + 0.0127328513395 dttp_c + 0.266984355176 gln__L_c + 0.1886815390631 glu__L_c + 0.367824371436 gly_c + 0.1815236055988 glycogen_c + 0.1610581353701 gtp_c + 66.0234962815776 h2o_c + 0.095542994587 his__L_c + 0.1833822575686 ile__L_c + 0.545109630509 leu__L_c + 0.1268098853154 lys__L_c + 0.0904990729257 met__L_c + 0.0002629250362 mlthf_c + 0.0440332489728 pe160_c + 0.0186791573555 pe161_c + 0.0019052207574 pe180_c + 0.0627923456608 pe181_c + 0.0012523828755 pe_pa_17_0_cyc_c + 0.0027845534146 pe_pa_19_0_cyc_c + 0.0629017241191 peptido_pa_c + 0.0115620050953 pg160_c + 0.0034971315335 pg161_c + 0.0003882433662 pg180_c + 0.0106413977194 pg181_c + 0.0007294269305 pg_pa_17_0_cyc_c + 0.0014588538609 pg_pa_19_0_cyc_c + 0.1554757214595 phe__L_c + 0.2231799745834 pro__L_c + 0.0760531829063 ptrc_c + 0.0002629250362 q9h2_c + 0.2438663808951 ser__L_c + 0.0002629250362 thmpp_c + 0.1851584772934 thr__L_c + 0.0656048789199 trp__L_c + 0.1111131649483 tyr__L_c + 0.0818728251174 utp_c + 0.3007573879843 val__L_c --> 70.413945350228 adp_c + 70.413945350228 h_c + 70.413945350228 pi_c + 0.5615558873897 ppi_c\n",
      "Bounds: 0.05, 1000\n",
      "Flux: 0.05\n",
      "\n"
     ]
    }
   ],
   "source": [
    "# # What is growth at max flux through MurA\n",
    "# growth_rxn_maxflux = model.reactions.get_by_id('BIOMASS_PA14_v27M')\n",
    "# print(growth_rxn_maxflux.summary())"
   ]
  },
  {
   "cell_type": "markdown",
   "id": "353be62b",
   "metadata": {},
   "source": [
    "## Minimizing flux through reaction"
   ]
  },
  {
   "cell_type": "code",
   "execution_count": 13,
   "id": "5d173f0b",
   "metadata": {},
   "outputs": [
    {
     "name": "stdout",
     "output_type": "stream",
     "text": [
      "-51.831471156463174\n"
     ]
    }
   ],
   "source": [
    "for rxns in reactions_tpiA:\n",
    "    #reset model\n",
    "    reset_model(model, default_bounds, 'BIOMASS_PA14_v27M')\n",
    "    \n",
    "    # Limit growth to minimum of 0.05\n",
    "    model.reactions.BIOMASS_PA14_v27M.bounds = 0.05, 1000\n",
    "\n",
    "    # Make rxn of interest the objective function\n",
    "    model.reactions.BIOMASS_PA14_v27M.objective_coefficient = 0\n",
    "    rxns.objective_coefficient = 1\n",
    "   \n",
    "    # Optimize model to minimize flux through rxn\n",
    "    min_flux = model.optimize(objective_sense='minimize')\n",
    "    print(min_flux.objective_value)\n",
    "    \n",
    "min_flux_val = min_flux.objective_value"
   ]
  },
  {
   "cell_type": "code",
   "execution_count": 14,
   "id": "0205c389",
   "metadata": {},
   "outputs": [
    {
     "name": "stdout",
     "output_type": "stream",
     "text": [
      "\n",
      "BIOMASS_PA14_v27M\n",
      "=================\n",
      "0.0002629250362 2fe2s_c + 0.0218082581186 PA_core_lipidA_c + 0.5114586280634 ala__L_c + 0.3347179859799 arg__L_c + 0.1163039750092 asn__L_c + 0.2337604590002 asp__L_c + 70.4958884983908 atp_c + 0.0072362236879 clpn160_c + 0.0038348089867 clpn161_c + 0.000348176308 clpn180_c + 0.0109468579074 clpn181_c + 0.0004942642694 clpn_pa_17_0_cyc_c + 0.000900875762 clpn_pa_19_0_cyc_c + 0.0001971967204 coa_c + 0.161115895419 ctp_c + 0.0442179279331 cys__L_c + 0.0127328513395 datp_c + 0.0250500903207 dctp_c + 0.0250500903207 dgtp_c + 0.0127328513395 dttp_c + 0.266984355176 gln__L_c + 0.1886815390631 glu__L_c + 0.367824371436 gly_c + 0.1815236055988 glycogen_c + 0.1610581353701 gtp_c + 66.0234962815776 h2o_c + 0.095542994587 his__L_c + 0.1833822575686 ile__L_c + 0.545109630509 leu__L_c + 0.1268098853154 lys__L_c + 0.0904990729257 met__L_c + 0.0002629250362 mlthf_c + 0.0440332489728 pe160_c + 0.0186791573555 pe161_c + 0.0019052207574 pe180_c + 0.0627923456608 pe181_c + 0.0012523828755 pe_pa_17_0_cyc_c + 0.0027845534146 pe_pa_19_0_cyc_c + 0.0629017241191 peptido_pa_c + 0.0115620050953 pg160_c + 0.0034971315335 pg161_c + 0.0003882433662 pg180_c + 0.0106413977194 pg181_c + 0.0007294269305 pg_pa_17_0_cyc_c + 0.0014588538609 pg_pa_19_0_cyc_c + 0.1554757214595 phe__L_c + 0.2231799745834 pro__L_c + 0.0760531829063 ptrc_c + 0.0002629250362 q9h2_c + 0.2438663808951 ser__L_c + 0.0002629250362 thmpp_c + 0.1851584772934 thr__L_c + 0.0656048789199 trp__L_c + 0.1111131649483 tyr__L_c + 0.0818728251174 utp_c + 0.3007573879843 val__L_c --> 70.413945350228 adp_c + 70.413945350228 h_c + 70.413945350228 pi_c + 0.5615558873897 ppi_c\n",
      "Bounds: 0.05, 1000\n",
      "Flux: 0.05\n",
      "\n"
     ]
    }
   ],
   "source": [
    "# # What is growth at min flux through MurA\n",
    "# growth_rxn_minflux = model.reactions.get_by_id('BIOMASS_PA14_v27M')\n",
    "# print(growth_rxn_minflux.summary())"
   ]
  },
  {
   "cell_type": "code",
   "execution_count": 15,
   "id": "70fb3abc",
   "metadata": {},
   "outputs": [
    {
     "data": {
      "text/plain": [
       "(-51.831471156463174, -0.01317350334533)"
      ]
     },
     "execution_count": 15,
     "metadata": {},
     "output_type": "execute_result"
    }
   ],
   "source": [
    "# State newly determined bounds for tpiA reaction\n",
    "min_flux_val, max_flux_val"
   ]
  },
  {
   "cell_type": "markdown",
   "id": "5540d1e4",
   "metadata": {},
   "source": [
    "## Perturbations through tpiA Reaction"
   ]
  },
  {
   "cell_type": "code",
   "execution_count": 16,
   "id": "c6437a37",
   "metadata": {},
   "outputs": [
    {
     "data": {
      "text/plain": [
       "array([-5.18314712e+01, -5.17016007e+01, -5.15717303e+01, -5.14418599e+01,\n",
       "       -5.13119895e+01, -5.11821191e+01, -5.10522486e+01, -5.09223782e+01,\n",
       "       -5.07925078e+01, -5.06626374e+01, -5.05327670e+01, -5.04028965e+01,\n",
       "       -5.02730261e+01, -5.01431557e+01, -5.00132853e+01, -4.98834149e+01,\n",
       "       -4.97535444e+01, -4.96236740e+01, -4.94938036e+01, -4.93639332e+01,\n",
       "       -4.92340628e+01, -4.91041923e+01, -4.89743219e+01, -4.88444515e+01,\n",
       "       -4.87145811e+01, -4.85847107e+01, -4.84548402e+01, -4.83249698e+01,\n",
       "       -4.81950994e+01, -4.80652290e+01, -4.79353586e+01, -4.78054881e+01,\n",
       "       -4.76756177e+01, -4.75457473e+01, -4.74158769e+01, -4.72860065e+01,\n",
       "       -4.71561360e+01, -4.70262656e+01, -4.68963952e+01, -4.67665248e+01,\n",
       "       -4.66366543e+01, -4.65067839e+01, -4.63769135e+01, -4.62470431e+01,\n",
       "       -4.61171727e+01, -4.59873022e+01, -4.58574318e+01, -4.57275614e+01,\n",
       "       -4.55976910e+01, -4.54678206e+01, -4.53379501e+01, -4.52080797e+01,\n",
       "       -4.50782093e+01, -4.49483389e+01, -4.48184685e+01, -4.46885980e+01,\n",
       "       -4.45587276e+01, -4.44288572e+01, -4.42989868e+01, -4.41691164e+01,\n",
       "       -4.40392459e+01, -4.39093755e+01, -4.37795051e+01, -4.36496347e+01,\n",
       "       -4.35197643e+01, -4.33898938e+01, -4.32600234e+01, -4.31301530e+01,\n",
       "       -4.30002826e+01, -4.28704122e+01, -4.27405417e+01, -4.26106713e+01,\n",
       "       -4.24808009e+01, -4.23509305e+01, -4.22210601e+01, -4.20911896e+01,\n",
       "       -4.19613192e+01, -4.18314488e+01, -4.17015784e+01, -4.15717080e+01,\n",
       "       -4.14418375e+01, -4.13119671e+01, -4.11820967e+01, -4.10522263e+01,\n",
       "       -4.09223559e+01, -4.07924854e+01, -4.06626150e+01, -4.05327446e+01,\n",
       "       -4.04028742e+01, -4.02730038e+01, -4.01431333e+01, -4.00132629e+01,\n",
       "       -3.98833925e+01, -3.97535221e+01, -3.96236517e+01, -3.94937812e+01,\n",
       "       -3.93639108e+01, -3.92340404e+01, -3.91041700e+01, -3.89742996e+01,\n",
       "       -3.88444291e+01, -3.87145587e+01, -3.85846883e+01, -3.84548179e+01,\n",
       "       -3.83249475e+01, -3.81950770e+01, -3.80652066e+01, -3.79353362e+01,\n",
       "       -3.78054658e+01, -3.76755954e+01, -3.75457249e+01, -3.74158545e+01,\n",
       "       -3.72859841e+01, -3.71561137e+01, -3.70262433e+01, -3.68963728e+01,\n",
       "       -3.67665024e+01, -3.66366320e+01, -3.65067616e+01, -3.63768912e+01,\n",
       "       -3.62470207e+01, -3.61171503e+01, -3.59872799e+01, -3.58574095e+01,\n",
       "       -3.57275391e+01, -3.55976686e+01, -3.54677982e+01, -3.53379278e+01,\n",
       "       -3.52080574e+01, -3.50781870e+01, -3.49483165e+01, -3.48184461e+01,\n",
       "       -3.46885757e+01, -3.45587053e+01, -3.44288349e+01, -3.42989644e+01,\n",
       "       -3.41690940e+01, -3.40392236e+01, -3.39093532e+01, -3.37794828e+01,\n",
       "       -3.36496123e+01, -3.35197419e+01, -3.33898715e+01, -3.32600011e+01,\n",
       "       -3.31301307e+01, -3.30002602e+01, -3.28703898e+01, -3.27405194e+01,\n",
       "       -3.26106490e+01, -3.24807785e+01, -3.23509081e+01, -3.22210377e+01,\n",
       "       -3.20911673e+01, -3.19612969e+01, -3.18314264e+01, -3.17015560e+01,\n",
       "       -3.15716856e+01, -3.14418152e+01, -3.13119448e+01, -3.11820743e+01,\n",
       "       -3.10522039e+01, -3.09223335e+01, -3.07924631e+01, -3.06625927e+01,\n",
       "       -3.05327222e+01, -3.04028518e+01, -3.02729814e+01, -3.01431110e+01,\n",
       "       -3.00132406e+01, -2.98833701e+01, -2.97534997e+01, -2.96236293e+01,\n",
       "       -2.94937589e+01, -2.93638885e+01, -2.92340180e+01, -2.91041476e+01,\n",
       "       -2.89742772e+01, -2.88444068e+01, -2.87145364e+01, -2.85846659e+01,\n",
       "       -2.84547955e+01, -2.83249251e+01, -2.81950547e+01, -2.80651843e+01,\n",
       "       -2.79353138e+01, -2.78054434e+01, -2.76755730e+01, -2.75457026e+01,\n",
       "       -2.74158322e+01, -2.72859617e+01, -2.71560913e+01, -2.70262209e+01,\n",
       "       -2.68963505e+01, -2.67664801e+01, -2.66366096e+01, -2.65067392e+01,\n",
       "       -2.63768688e+01, -2.62469984e+01, -2.61171280e+01, -2.59872575e+01,\n",
       "       -2.58573871e+01, -2.57275167e+01, -2.55976463e+01, -2.54677759e+01,\n",
       "       -2.53379054e+01, -2.52080350e+01, -2.50781646e+01, -2.49482942e+01,\n",
       "       -2.48184238e+01, -2.46885533e+01, -2.45586829e+01, -2.44288125e+01,\n",
       "       -2.42989421e+01, -2.41690717e+01, -2.40392012e+01, -2.39093308e+01,\n",
       "       -2.37794604e+01, -2.36495900e+01, -2.35197196e+01, -2.33898491e+01,\n",
       "       -2.32599787e+01, -2.31301083e+01, -2.30002379e+01, -2.28703675e+01,\n",
       "       -2.27404970e+01, -2.26106266e+01, -2.24807562e+01, -2.23508858e+01,\n",
       "       -2.22210154e+01, -2.20911449e+01, -2.19612745e+01, -2.18314041e+01,\n",
       "       -2.17015337e+01, -2.15716633e+01, -2.14417928e+01, -2.13119224e+01,\n",
       "       -2.11820520e+01, -2.10521816e+01, -2.09223112e+01, -2.07924407e+01,\n",
       "       -2.06625703e+01, -2.05326999e+01, -2.04028295e+01, -2.02729591e+01,\n",
       "       -2.01430886e+01, -2.00132182e+01, -1.98833478e+01, -1.97534774e+01,\n",
       "       -1.96236070e+01, -1.94937365e+01, -1.93638661e+01, -1.92339957e+01,\n",
       "       -1.91041253e+01, -1.89742549e+01, -1.88443844e+01, -1.87145140e+01,\n",
       "       -1.85846436e+01, -1.84547732e+01, -1.83249027e+01, -1.81950323e+01,\n",
       "       -1.80651619e+01, -1.79352915e+01, -1.78054211e+01, -1.76755506e+01,\n",
       "       -1.75456802e+01, -1.74158098e+01, -1.72859394e+01, -1.71560690e+01,\n",
       "       -1.70261985e+01, -1.68963281e+01, -1.67664577e+01, -1.66365873e+01,\n",
       "       -1.65067169e+01, -1.63768464e+01, -1.62469760e+01, -1.61171056e+01,\n",
       "       -1.59872352e+01, -1.58573648e+01, -1.57274943e+01, -1.55976239e+01,\n",
       "       -1.54677535e+01, -1.53378831e+01, -1.52080127e+01, -1.50781422e+01,\n",
       "       -1.49482718e+01, -1.48184014e+01, -1.46885310e+01, -1.45586606e+01,\n",
       "       -1.44287901e+01, -1.42989197e+01, -1.41690493e+01, -1.40391789e+01,\n",
       "       -1.39093085e+01, -1.37794380e+01, -1.36495676e+01, -1.35196972e+01,\n",
       "       -1.33898268e+01, -1.32599564e+01, -1.31300859e+01, -1.30002155e+01,\n",
       "       -1.28703451e+01, -1.27404747e+01, -1.26106043e+01, -1.24807338e+01,\n",
       "       -1.23508634e+01, -1.22209930e+01, -1.20911226e+01, -1.19612522e+01,\n",
       "       -1.18313817e+01, -1.17015113e+01, -1.15716409e+01, -1.14417705e+01,\n",
       "       -1.13119001e+01, -1.11820296e+01, -1.10521592e+01, -1.09222888e+01,\n",
       "       -1.07924184e+01, -1.06625480e+01, -1.05326775e+01, -1.04028071e+01,\n",
       "       -1.02729367e+01, -1.01430663e+01, -1.00131959e+01, -9.88332544e+00,\n",
       "       -9.75345502e+00, -9.62358460e+00, -9.49371418e+00, -9.36384376e+00,\n",
       "       -9.23397334e+00, -9.10410292e+00, -8.97423250e+00, -8.84436208e+00,\n",
       "       -8.71449166e+00, -8.58462124e+00, -8.45475082e+00, -8.32488040e+00,\n",
       "       -8.19500997e+00, -8.06513955e+00, -7.93526913e+00, -7.80539871e+00,\n",
       "       -7.67552829e+00, -7.54565787e+00, -7.41578745e+00, -7.28591703e+00,\n",
       "       -7.15604661e+00, -7.02617619e+00, -6.89630577e+00, -6.76643535e+00,\n",
       "       -6.63656493e+00, -6.50669451e+00, -6.37682409e+00, -6.24695367e+00,\n",
       "       -6.11708325e+00, -5.98721283e+00, -5.85734241e+00, -5.72747199e+00,\n",
       "       -5.59760157e+00, -5.46773115e+00, -5.33786073e+00, -5.20799031e+00,\n",
       "       -5.07811989e+00, -4.94824947e+00, -4.81837905e+00, -4.68850863e+00,\n",
       "       -4.55863821e+00, -4.42876779e+00, -4.29889737e+00, -4.16902695e+00,\n",
       "       -4.03915653e+00, -3.90928611e+00, -3.77941569e+00, -3.64954527e+00,\n",
       "       -3.51967485e+00, -3.38980443e+00, -3.25993401e+00, -3.13006359e+00,\n",
       "       -3.00019317e+00, -2.87032275e+00, -2.74045233e+00, -2.61058191e+00,\n",
       "       -2.48071149e+00, -2.35084107e+00, -2.22097065e+00, -2.09110023e+00,\n",
       "       -1.96122981e+00, -1.83135939e+00, -1.70148897e+00, -1.57161855e+00,\n",
       "       -1.44174813e+00, -1.31187771e+00, -1.18200728e+00, -1.05213686e+00,\n",
       "       -9.22266445e-01, -7.92396024e-01, -6.62525604e-01, -5.32655184e-01,\n",
       "       -4.02784764e-01, -2.72914344e-01, -1.43043924e-01, -1.31735033e-02])"
      ]
     },
     "execution_count": 16,
     "metadata": {},
     "output_type": "execute_result"
    }
   ],
   "source": [
    "import numpy as np\n",
    "import pandas as pd\n",
    "my_flux_vals = np.linspace(min_flux_val, max_flux_val, num=400)\n",
    "my_flux_vals"
   ]
  },
  {
   "cell_type": "code",
   "execution_count": 17,
   "id": "b2cb1243",
   "metadata": {},
   "outputs": [
    {
     "name": "stdout",
     "output_type": "stream",
     "text": [
      "1.0\n",
      "-27.237127710531713\n"
     ]
    }
   ],
   "source": [
    "# reset model\n",
    "reset_model(model, default_bounds, 'BIOMASS_PA14_v27M')\n",
    "print(model.reactions.BIOMASS_PA14_v27M.objective_coefficient)\n",
    "\n",
    "tpiA_rxn.bounds = -28.0651843, -28.0651843\n",
    "\n",
    "# Optimize model to maximize flux through biomass rxn\n",
    "# with specific flux through tpiA\n",
    "solution = model.optimize(objective_sense='maximize')\n",
    "print(solution.objective_value)"
   ]
  },
  {
   "cell_type": "code",
   "execution_count": 18,
   "id": "6022018b",
   "metadata": {},
   "outputs": [
    {
     "data": {
      "text/plain": [
       "1PPDCRc         0.0\n",
       "2AGPE140tipp    0.0\n",
       "2AGPE141tipp    0.0\n",
       "2AGPG140tipp    0.0\n",
       "2AGPG141tipp    0.0\n",
       "               ... \n",
       "SHGO            0.0\n",
       "ACTD2_SS        0.0\n",
       "23DHBSpp        0.0\n",
       "ACPS1           0.0\n",
       "ACPpds          0.0\n",
       "Name: fluxes, Length: 2021, dtype: float64"
      ]
     },
     "execution_count": 18,
     "metadata": {},
     "output_type": "execute_result"
    }
   ],
   "source": [
    "# Model flux vector corresponding with this solution\n",
    "solution.fluxes"
   ]
  },
  {
   "cell_type": "code",
   "execution_count": 19,
   "id": "14e55df7",
   "metadata": {},
   "outputs": [
    {
     "data": {
      "text/html": [
       "<div>\n",
       "<style scoped>\n",
       "    .dataframe tbody tr th:only-of-type {\n",
       "        vertical-align: middle;\n",
       "    }\n",
       "\n",
       "    .dataframe tbody tr th {\n",
       "        vertical-align: top;\n",
       "    }\n",
       "\n",
       "    .dataframe thead th {\n",
       "        text-align: right;\n",
       "    }\n",
       "</style>\n",
       "<table border=\"1\" class=\"dataframe\">\n",
       "  <thead>\n",
       "    <tr style=\"text-align: right;\">\n",
       "      <th></th>\n",
       "      <th>1PPDCRc</th>\n",
       "      <th>2AGPE140tipp</th>\n",
       "      <th>2AGPE141tipp</th>\n",
       "      <th>2AGPG140tipp</th>\n",
       "      <th>2AGPG141tipp</th>\n",
       "      <th>2DHGLCK</th>\n",
       "      <th>2DHGLCNkt_tpp</th>\n",
       "      <th>2HH24DDH1</th>\n",
       "      <th>2MAHMP</th>\n",
       "      <th>3_4DHBZ1t_pp</th>\n",
       "      <th>...</th>\n",
       "      <th>EX_gly_glu__L_e</th>\n",
       "      <th>BIOMASS_PA14_v27M</th>\n",
       "      <th>BIOMASS_PA14_v27M_ANA</th>\n",
       "      <th>PYOO2exNET</th>\n",
       "      <th>AHGDx</th>\n",
       "      <th>SHGO</th>\n",
       "      <th>ACTD2_SS</th>\n",
       "      <th>23DHBSpp</th>\n",
       "      <th>ACPS1</th>\n",
       "      <th>ACPpds</th>\n",
       "    </tr>\n",
       "  </thead>\n",
       "  <tbody>\n",
       "    <tr>\n",
       "      <th>fluxes</th>\n",
       "      <td>0.0</td>\n",
       "      <td>0.0</td>\n",
       "      <td>0.0</td>\n",
       "      <td>0.0</td>\n",
       "      <td>0.0</td>\n",
       "      <td>0.0</td>\n",
       "      <td>0.0</td>\n",
       "      <td>0.0</td>\n",
       "      <td>0.0</td>\n",
       "      <td>0.0</td>\n",
       "      <td>...</td>\n",
       "      <td>0.0</td>\n",
       "      <td>0.050000</td>\n",
       "      <td>0.0</td>\n",
       "      <td>0.0</td>\n",
       "      <td>0.0</td>\n",
       "      <td>0.0</td>\n",
       "      <td>0.0</td>\n",
       "      <td>0.0</td>\n",
       "      <td>0.0</td>\n",
       "      <td>0.0</td>\n",
       "    </tr>\n",
       "    <tr>\n",
       "      <th>fluxes</th>\n",
       "      <td>0.0</td>\n",
       "      <td>0.0</td>\n",
       "      <td>0.0</td>\n",
       "      <td>0.0</td>\n",
       "      <td>0.0</td>\n",
       "      <td>0.0</td>\n",
       "      <td>0.0</td>\n",
       "      <td>0.0</td>\n",
       "      <td>0.0</td>\n",
       "      <td>0.0</td>\n",
       "      <td>...</td>\n",
       "      <td>0.0</td>\n",
       "      <td>0.054379</td>\n",
       "      <td>0.0</td>\n",
       "      <td>0.0</td>\n",
       "      <td>0.0</td>\n",
       "      <td>0.0</td>\n",
       "      <td>0.0</td>\n",
       "      <td>0.0</td>\n",
       "      <td>0.0</td>\n",
       "      <td>0.0</td>\n",
       "    </tr>\n",
       "    <tr>\n",
       "      <th>fluxes</th>\n",
       "      <td>0.0</td>\n",
       "      <td>0.0</td>\n",
       "      <td>0.0</td>\n",
       "      <td>0.0</td>\n",
       "      <td>0.0</td>\n",
       "      <td>0.0</td>\n",
       "      <td>0.0</td>\n",
       "      <td>0.0</td>\n",
       "      <td>0.0</td>\n",
       "      <td>0.0</td>\n",
       "      <td>...</td>\n",
       "      <td>0.0</td>\n",
       "      <td>0.058757</td>\n",
       "      <td>0.0</td>\n",
       "      <td>0.0</td>\n",
       "      <td>0.0</td>\n",
       "      <td>0.0</td>\n",
       "      <td>0.0</td>\n",
       "      <td>0.0</td>\n",
       "      <td>0.0</td>\n",
       "      <td>0.0</td>\n",
       "    </tr>\n",
       "    <tr>\n",
       "      <th>fluxes</th>\n",
       "      <td>0.0</td>\n",
       "      <td>0.0</td>\n",
       "      <td>0.0</td>\n",
       "      <td>0.0</td>\n",
       "      <td>0.0</td>\n",
       "      <td>0.0</td>\n",
       "      <td>0.0</td>\n",
       "      <td>0.0</td>\n",
       "      <td>0.0</td>\n",
       "      <td>0.0</td>\n",
       "      <td>...</td>\n",
       "      <td>0.0</td>\n",
       "      <td>0.063136</td>\n",
       "      <td>0.0</td>\n",
       "      <td>0.0</td>\n",
       "      <td>0.0</td>\n",
       "      <td>0.0</td>\n",
       "      <td>0.0</td>\n",
       "      <td>0.0</td>\n",
       "      <td>0.0</td>\n",
       "      <td>0.0</td>\n",
       "    </tr>\n",
       "    <tr>\n",
       "      <th>fluxes</th>\n",
       "      <td>0.0</td>\n",
       "      <td>0.0</td>\n",
       "      <td>0.0</td>\n",
       "      <td>0.0</td>\n",
       "      <td>0.0</td>\n",
       "      <td>0.0</td>\n",
       "      <td>0.0</td>\n",
       "      <td>0.0</td>\n",
       "      <td>0.0</td>\n",
       "      <td>0.0</td>\n",
       "      <td>...</td>\n",
       "      <td>0.0</td>\n",
       "      <td>0.067515</td>\n",
       "      <td>0.0</td>\n",
       "      <td>0.0</td>\n",
       "      <td>0.0</td>\n",
       "      <td>0.0</td>\n",
       "      <td>0.0</td>\n",
       "      <td>0.0</td>\n",
       "      <td>0.0</td>\n",
       "      <td>0.0</td>\n",
       "    </tr>\n",
       "    <tr>\n",
       "      <th>...</th>\n",
       "      <td>...</td>\n",
       "      <td>...</td>\n",
       "      <td>...</td>\n",
       "      <td>...</td>\n",
       "      <td>...</td>\n",
       "      <td>...</td>\n",
       "      <td>...</td>\n",
       "      <td>...</td>\n",
       "      <td>...</td>\n",
       "      <td>...</td>\n",
       "      <td>...</td>\n",
       "      <td>...</td>\n",
       "      <td>...</td>\n",
       "      <td>...</td>\n",
       "      <td>...</td>\n",
       "      <td>...</td>\n",
       "      <td>...</td>\n",
       "      <td>...</td>\n",
       "      <td>...</td>\n",
       "      <td>...</td>\n",
       "      <td>...</td>\n",
       "    </tr>\n",
       "    <tr>\n",
       "      <th>fluxes</th>\n",
       "      <td>0.0</td>\n",
       "      <td>0.0</td>\n",
       "      <td>0.0</td>\n",
       "      <td>0.0</td>\n",
       "      <td>0.0</td>\n",
       "      <td>0.0</td>\n",
       "      <td>0.0</td>\n",
       "      <td>0.0</td>\n",
       "      <td>0.0</td>\n",
       "      <td>0.0</td>\n",
       "      <td>...</td>\n",
       "      <td>0.0</td>\n",
       "      <td>1.588923</td>\n",
       "      <td>0.0</td>\n",
       "      <td>0.0</td>\n",
       "      <td>0.0</td>\n",
       "      <td>0.0</td>\n",
       "      <td>0.0</td>\n",
       "      <td>0.0</td>\n",
       "      <td>0.0</td>\n",
       "      <td>0.0</td>\n",
       "    </tr>\n",
       "    <tr>\n",
       "      <th>fluxes</th>\n",
       "      <td>0.0</td>\n",
       "      <td>0.0</td>\n",
       "      <td>0.0</td>\n",
       "      <td>0.0</td>\n",
       "      <td>0.0</td>\n",
       "      <td>0.0</td>\n",
       "      <td>0.0</td>\n",
       "      <td>0.0</td>\n",
       "      <td>0.0</td>\n",
       "      <td>0.0</td>\n",
       "      <td>...</td>\n",
       "      <td>0.0</td>\n",
       "      <td>1.528769</td>\n",
       "      <td>0.0</td>\n",
       "      <td>0.0</td>\n",
       "      <td>0.0</td>\n",
       "      <td>0.0</td>\n",
       "      <td>0.0</td>\n",
       "      <td>0.0</td>\n",
       "      <td>0.0</td>\n",
       "      <td>0.0</td>\n",
       "    </tr>\n",
       "    <tr>\n",
       "      <th>fluxes</th>\n",
       "      <td>0.0</td>\n",
       "      <td>0.0</td>\n",
       "      <td>0.0</td>\n",
       "      <td>0.0</td>\n",
       "      <td>0.0</td>\n",
       "      <td>0.0</td>\n",
       "      <td>0.0</td>\n",
       "      <td>0.0</td>\n",
       "      <td>0.0</td>\n",
       "      <td>0.0</td>\n",
       "      <td>...</td>\n",
       "      <td>0.0</td>\n",
       "      <td>1.035846</td>\n",
       "      <td>0.0</td>\n",
       "      <td>0.0</td>\n",
       "      <td>0.0</td>\n",
       "      <td>0.0</td>\n",
       "      <td>0.0</td>\n",
       "      <td>0.0</td>\n",
       "      <td>0.0</td>\n",
       "      <td>0.0</td>\n",
       "    </tr>\n",
       "    <tr>\n",
       "      <th>fluxes</th>\n",
       "      <td>0.0</td>\n",
       "      <td>0.0</td>\n",
       "      <td>0.0</td>\n",
       "      <td>0.0</td>\n",
       "      <td>0.0</td>\n",
       "      <td>0.0</td>\n",
       "      <td>0.0</td>\n",
       "      <td>0.0</td>\n",
       "      <td>0.0</td>\n",
       "      <td>0.0</td>\n",
       "      <td>...</td>\n",
       "      <td>0.0</td>\n",
       "      <td>0.542923</td>\n",
       "      <td>0.0</td>\n",
       "      <td>0.0</td>\n",
       "      <td>0.0</td>\n",
       "      <td>0.0</td>\n",
       "      <td>0.0</td>\n",
       "      <td>0.0</td>\n",
       "      <td>0.0</td>\n",
       "      <td>0.0</td>\n",
       "    </tr>\n",
       "    <tr>\n",
       "      <th>fluxes</th>\n",
       "      <td>0.0</td>\n",
       "      <td>0.0</td>\n",
       "      <td>0.0</td>\n",
       "      <td>0.0</td>\n",
       "      <td>0.0</td>\n",
       "      <td>0.0</td>\n",
       "      <td>0.0</td>\n",
       "      <td>0.0</td>\n",
       "      <td>0.0</td>\n",
       "      <td>0.0</td>\n",
       "      <td>...</td>\n",
       "      <td>0.0</td>\n",
       "      <td>0.050000</td>\n",
       "      <td>0.0</td>\n",
       "      <td>0.0</td>\n",
       "      <td>0.0</td>\n",
       "      <td>0.0</td>\n",
       "      <td>0.0</td>\n",
       "      <td>0.0</td>\n",
       "      <td>0.0</td>\n",
       "      <td>0.0</td>\n",
       "    </tr>\n",
       "  </tbody>\n",
       "</table>\n",
       "<p>400 rows × 2021 columns</p>\n",
       "</div>"
      ],
      "text/plain": [
       "        1PPDCRc  2AGPE140tipp  2AGPE141tipp  2AGPG140tipp  2AGPG141tipp  \\\n",
       "fluxes      0.0           0.0           0.0           0.0           0.0   \n",
       "fluxes      0.0           0.0           0.0           0.0           0.0   \n",
       "fluxes      0.0           0.0           0.0           0.0           0.0   \n",
       "fluxes      0.0           0.0           0.0           0.0           0.0   \n",
       "fluxes      0.0           0.0           0.0           0.0           0.0   \n",
       "...         ...           ...           ...           ...           ...   \n",
       "fluxes      0.0           0.0           0.0           0.0           0.0   \n",
       "fluxes      0.0           0.0           0.0           0.0           0.0   \n",
       "fluxes      0.0           0.0           0.0           0.0           0.0   \n",
       "fluxes      0.0           0.0           0.0           0.0           0.0   \n",
       "fluxes      0.0           0.0           0.0           0.0           0.0   \n",
       "\n",
       "        2DHGLCK  2DHGLCNkt_tpp  2HH24DDH1  2MAHMP  3_4DHBZ1t_pp  ...  \\\n",
       "fluxes      0.0            0.0        0.0     0.0           0.0  ...   \n",
       "fluxes      0.0            0.0        0.0     0.0           0.0  ...   \n",
       "fluxes      0.0            0.0        0.0     0.0           0.0  ...   \n",
       "fluxes      0.0            0.0        0.0     0.0           0.0  ...   \n",
       "fluxes      0.0            0.0        0.0     0.0           0.0  ...   \n",
       "...         ...            ...        ...     ...           ...  ...   \n",
       "fluxes      0.0            0.0        0.0     0.0           0.0  ...   \n",
       "fluxes      0.0            0.0        0.0     0.0           0.0  ...   \n",
       "fluxes      0.0            0.0        0.0     0.0           0.0  ...   \n",
       "fluxes      0.0            0.0        0.0     0.0           0.0  ...   \n",
       "fluxes      0.0            0.0        0.0     0.0           0.0  ...   \n",
       "\n",
       "        EX_gly_glu__L_e  BIOMASS_PA14_v27M  BIOMASS_PA14_v27M_ANA  PYOO2exNET  \\\n",
       "fluxes              0.0           0.050000                    0.0         0.0   \n",
       "fluxes              0.0           0.054379                    0.0         0.0   \n",
       "fluxes              0.0           0.058757                    0.0         0.0   \n",
       "fluxes              0.0           0.063136                    0.0         0.0   \n",
       "fluxes              0.0           0.067515                    0.0         0.0   \n",
       "...                 ...                ...                    ...         ...   \n",
       "fluxes              0.0           1.588923                    0.0         0.0   \n",
       "fluxes              0.0           1.528769                    0.0         0.0   \n",
       "fluxes              0.0           1.035846                    0.0         0.0   \n",
       "fluxes              0.0           0.542923                    0.0         0.0   \n",
       "fluxes              0.0           0.050000                    0.0         0.0   \n",
       "\n",
       "        AHGDx  SHGO  ACTD2_SS  23DHBSpp  ACPS1  ACPpds  \n",
       "fluxes    0.0   0.0       0.0       0.0    0.0     0.0  \n",
       "fluxes    0.0   0.0       0.0       0.0    0.0     0.0  \n",
       "fluxes    0.0   0.0       0.0       0.0    0.0     0.0  \n",
       "fluxes    0.0   0.0       0.0       0.0    0.0     0.0  \n",
       "fluxes    0.0   0.0       0.0       0.0    0.0     0.0  \n",
       "...       ...   ...       ...       ...    ...     ...  \n",
       "fluxes    0.0   0.0       0.0       0.0    0.0     0.0  \n",
       "fluxes    0.0   0.0       0.0       0.0    0.0     0.0  \n",
       "fluxes    0.0   0.0       0.0       0.0    0.0     0.0  \n",
       "fluxes    0.0   0.0       0.0       0.0    0.0     0.0  \n",
       "fluxes    0.0   0.0       0.0       0.0    0.0     0.0  \n",
       "\n",
       "[400 rows x 2021 columns]"
      ]
     },
     "execution_count": 19,
     "metadata": {},
     "output_type": "execute_result"
    }
   ],
   "source": [
    "# Create empty list to input rows for each tpiA flux\n",
    "row_list = []\n",
    "# Loop through tpiA fluxes to get corresponding network fluxes\n",
    "for flux in my_flux_vals:\n",
    "    # Reset model\n",
    "    reset_model(model, default_bounds, 'BIOMASS_PA14_v27M')\n",
    "    # Set tpiA flux bounds\n",
    "    tpiA_rxn.bounds = flux, flux\n",
    "    solution = model.optimize(objective_sense='maximize')\n",
    "    row_list.append(solution.fluxes)\n",
    "\n",
    "matrix_df = pd.DataFrame(row_list)\n",
    "matrix_df"
   ]
  },
  {
   "cell_type": "markdown",
   "id": "3e197b34",
   "metadata": {},
   "source": [
    "## PCA"
   ]
  },
  {
   "cell_type": "code",
   "execution_count": 20,
   "id": "b8fc746a",
   "metadata": {},
   "outputs": [
    {
     "data": {
      "text/html": [
       "<style>#sk-container-id-1 {color: black;background-color: white;}#sk-container-id-1 pre{padding: 0;}#sk-container-id-1 div.sk-toggleable {background-color: white;}#sk-container-id-1 label.sk-toggleable__label {cursor: pointer;display: block;width: 100%;margin-bottom: 0;padding: 0.3em;box-sizing: border-box;text-align: center;}#sk-container-id-1 label.sk-toggleable__label-arrow:before {content: \"▸\";float: left;margin-right: 0.25em;color: #696969;}#sk-container-id-1 label.sk-toggleable__label-arrow:hover:before {color: black;}#sk-container-id-1 div.sk-estimator:hover label.sk-toggleable__label-arrow:before {color: black;}#sk-container-id-1 div.sk-toggleable__content {max-height: 0;max-width: 0;overflow: hidden;text-align: left;background-color: #f0f8ff;}#sk-container-id-1 div.sk-toggleable__content pre {margin: 0.2em;color: black;border-radius: 0.25em;background-color: #f0f8ff;}#sk-container-id-1 input.sk-toggleable__control:checked~div.sk-toggleable__content {max-height: 200px;max-width: 100%;overflow: auto;}#sk-container-id-1 input.sk-toggleable__control:checked~label.sk-toggleable__label-arrow:before {content: \"▾\";}#sk-container-id-1 div.sk-estimator input.sk-toggleable__control:checked~label.sk-toggleable__label {background-color: #d4ebff;}#sk-container-id-1 div.sk-label input.sk-toggleable__control:checked~label.sk-toggleable__label {background-color: #d4ebff;}#sk-container-id-1 input.sk-hidden--visually {border: 0;clip: rect(1px 1px 1px 1px);clip: rect(1px, 1px, 1px, 1px);height: 1px;margin: -1px;overflow: hidden;padding: 0;position: absolute;width: 1px;}#sk-container-id-1 div.sk-estimator {font-family: monospace;background-color: #f0f8ff;border: 1px dotted black;border-radius: 0.25em;box-sizing: border-box;margin-bottom: 0.5em;}#sk-container-id-1 div.sk-estimator:hover {background-color: #d4ebff;}#sk-container-id-1 div.sk-parallel-item::after {content: \"\";width: 100%;border-bottom: 1px solid gray;flex-grow: 1;}#sk-container-id-1 div.sk-label:hover label.sk-toggleable__label {background-color: #d4ebff;}#sk-container-id-1 div.sk-serial::before {content: \"\";position: absolute;border-left: 1px solid gray;box-sizing: border-box;top: 0;bottom: 0;left: 50%;z-index: 0;}#sk-container-id-1 div.sk-serial {display: flex;flex-direction: column;align-items: center;background-color: white;padding-right: 0.2em;padding-left: 0.2em;position: relative;}#sk-container-id-1 div.sk-item {position: relative;z-index: 1;}#sk-container-id-1 div.sk-parallel {display: flex;align-items: stretch;justify-content: center;background-color: white;position: relative;}#sk-container-id-1 div.sk-item::before, #sk-container-id-1 div.sk-parallel-item::before {content: \"\";position: absolute;border-left: 1px solid gray;box-sizing: border-box;top: 0;bottom: 0;left: 50%;z-index: -1;}#sk-container-id-1 div.sk-parallel-item {display: flex;flex-direction: column;z-index: 1;position: relative;background-color: white;}#sk-container-id-1 div.sk-parallel-item:first-child::after {align-self: flex-end;width: 50%;}#sk-container-id-1 div.sk-parallel-item:last-child::after {align-self: flex-start;width: 50%;}#sk-container-id-1 div.sk-parallel-item:only-child::after {width: 0;}#sk-container-id-1 div.sk-dashed-wrapped {border: 1px dashed gray;margin: 0 0.4em 0.5em 0.4em;box-sizing: border-box;padding-bottom: 0.4em;background-color: white;}#sk-container-id-1 div.sk-label label {font-family: monospace;font-weight: bold;display: inline-block;line-height: 1.2em;}#sk-container-id-1 div.sk-label-container {text-align: center;}#sk-container-id-1 div.sk-container {/* jupyter's `normalize.less` sets `[hidden] { display: none; }` but bootstrap.min.css set `[hidden] { display: none !important; }` so we also need the `!important` here to be able to override the default hidden behavior on the sphinx rendered scikit-learn.org. See: https://github.com/scikit-learn/scikit-learn/issues/21755 */display: inline-block !important;position: relative;}#sk-container-id-1 div.sk-text-repr-fallback {display: none;}</style><div id=\"sk-container-id-1\" class=\"sk-top-container\"><div class=\"sk-text-repr-fallback\"><pre>PCA()</pre><b>In a Jupyter environment, please rerun this cell to show the HTML representation or trust the notebook. <br />On GitHub, the HTML representation is unable to render, please try loading this page with nbviewer.org.</b></div><div class=\"sk-container\" hidden><div class=\"sk-item\"><div class=\"sk-estimator sk-toggleable\"><input class=\"sk-toggleable__control sk-hidden--visually\" id=\"sk-estimator-id-1\" type=\"checkbox\" checked><label for=\"sk-estimator-id-1\" class=\"sk-toggleable__label sk-toggleable__label-arrow\">PCA</label><div class=\"sk-toggleable__content\"><pre>PCA()</pre></div></div></div></div></div>"
      ],
      "text/plain": [
       "PCA()"
      ]
     },
     "execution_count": 20,
     "metadata": {},
     "output_type": "execute_result"
    }
   ],
   "source": [
    "# Importing PCA class from sklearn\n",
    "from sklearn.decomposition import PCA\n",
    "# Fit PCA model to matrix\n",
    "pca = PCA()\n",
    "pca.fit(matrix_df)"
   ]
  },
  {
   "cell_type": "code",
   "execution_count": 21,
   "id": "e587c853",
   "metadata": {},
   "outputs": [
    {
     "data": {
      "text/plain": [
       "array([[ 1.26715547e-16,  2.71806520e-17,  1.92954105e-18, ...,\n",
       "        -0.00000000e+00, -0.00000000e+00, -0.00000000e+00],\n",
       "       [ 1.06201309e-16,  4.49842258e-17, -6.28464566e-17, ...,\n",
       "         0.00000000e+00,  0.00000000e+00,  0.00000000e+00],\n",
       "       [-6.10575230e-17,  8.25891005e-17,  8.28872561e-17, ...,\n",
       "         0.00000000e+00,  0.00000000e+00,  0.00000000e+00],\n",
       "       ...,\n",
       "       [-2.18422845e-04,  2.09874528e-04,  4.19558272e-04, ...,\n",
       "         0.00000000e+00,  0.00000000e+00,  0.00000000e+00],\n",
       "       [-3.73807290e-02,  1.05445638e-01, -3.03528170e-02, ...,\n",
       "         0.00000000e+00,  0.00000000e+00,  0.00000000e+00],\n",
       "       [-2.81202659e-02, -3.02343835e-02, -9.62389221e-02, ...,\n",
       "        -0.00000000e+00, -0.00000000e+00, -0.00000000e+00]])"
      ]
     },
     "execution_count": 21,
     "metadata": {},
     "output_type": "execute_result"
    }
   ],
   "source": [
    "# Looking at the principal components formed\n",
    "components = pca.components_\n",
    "components"
   ]
  },
  {
   "cell_type": "code",
   "execution_count": 22,
   "id": "b4dfdbba",
   "metadata": {},
   "outputs": [
    {
     "name": "stdout",
     "output_type": "stream",
     "text": [
      "[9.44342518e-01 2.53153155e-02 1.66031483e-02 7.37129870e-03\n",
      " 3.24980072e-03 1.74187821e-03 9.46943740e-04 3.94078163e-04\n",
      " 2.84620227e-05 4.31987344e-06 2.23311297e-06 3.75813800e-09\n",
      " 2.07609769e-10 5.17147077e-28 7.56519293e-30 7.36647439e-30\n",
      " 2.04279844e-30 3.43238951e-31 1.46719739e-31 1.12272125e-31\n",
      " 8.50781605e-32 7.69329161e-32 5.31777892e-32 3.07877513e-32\n",
      " 1.85435643e-32 1.21311433e-32 1.09700604e-32 9.09606712e-33\n",
      " 9.09606712e-33 9.09606712e-33 9.09606712e-33 9.09606712e-33\n",
      " 9.09606712e-33 9.09606712e-33 9.09606712e-33 9.09606712e-33\n",
      " 9.09606712e-33 9.09606712e-33 9.09606712e-33 9.09606712e-33\n",
      " 9.09606712e-33 9.09606712e-33 9.09606712e-33 9.09606712e-33\n",
      " 9.09606712e-33 9.09606712e-33 9.09606712e-33 9.09606712e-33\n",
      " 9.09606712e-33 9.09606712e-33 9.09606712e-33 9.09606712e-33\n",
      " 9.09606712e-33 9.09606712e-33 9.09606712e-33 9.09606712e-33\n",
      " 9.09606712e-33 9.09606712e-33 9.09606712e-33 9.09606712e-33\n",
      " 9.09606712e-33 9.09606712e-33 9.09606712e-33 9.09606712e-33\n",
      " 9.09606712e-33 9.09606712e-33 9.09606712e-33 9.09606712e-33\n",
      " 9.09606712e-33 9.09606712e-33 9.09606712e-33 9.09606712e-33\n",
      " 9.09606712e-33 9.09606712e-33 9.09606712e-33 9.09606712e-33\n",
      " 9.09606712e-33 9.09606712e-33 9.09606712e-33 9.09606712e-33\n",
      " 9.09606712e-33 9.09606712e-33 9.09606712e-33 9.09606712e-33\n",
      " 9.09606712e-33 9.09606712e-33 9.09606712e-33 9.09606712e-33\n",
      " 9.09606712e-33 9.09606712e-33 9.09606712e-33 9.09606712e-33\n",
      " 9.09606712e-33 9.09606712e-33 9.09606712e-33 9.09606712e-33\n",
      " 9.09606712e-33 9.09606712e-33 9.09606712e-33 9.09606712e-33\n",
      " 9.09606712e-33 9.09606712e-33 9.09606712e-33 9.09606712e-33\n",
      " 9.09606712e-33 9.09606712e-33 9.09606712e-33 9.09606712e-33\n",
      " 9.09606712e-33 9.09606712e-33 9.09606712e-33 9.09606712e-33\n",
      " 9.09606712e-33 9.09606712e-33 9.09606712e-33 9.09606712e-33\n",
      " 9.09606712e-33 9.09606712e-33 9.09606712e-33 9.09606712e-33\n",
      " 9.09606712e-33 9.09606712e-33 9.09606712e-33 9.09606712e-33\n",
      " 9.09606712e-33 9.09606712e-33 9.09606712e-33 9.09606712e-33\n",
      " 9.09606712e-33 9.09606712e-33 9.09606712e-33 9.09606712e-33\n",
      " 9.09606712e-33 9.09606712e-33 9.09606712e-33 9.09606712e-33\n",
      " 9.09606712e-33 9.09606712e-33 9.09606712e-33 9.09606712e-33\n",
      " 9.09606712e-33 9.09606712e-33 9.09606712e-33 9.09606712e-33\n",
      " 9.09606712e-33 9.09606712e-33 9.09606712e-33 9.09606712e-33\n",
      " 9.09606712e-33 9.09606712e-33 9.09606712e-33 9.09606712e-33\n",
      " 9.09606712e-33 9.09606712e-33 9.09606712e-33 9.09606712e-33\n",
      " 9.09606712e-33 9.09606712e-33 9.09606712e-33 9.09606712e-33\n",
      " 9.09606712e-33 9.09606712e-33 9.09606712e-33 9.09606712e-33\n",
      " 9.09606712e-33 9.09606712e-33 9.09606712e-33 9.09606712e-33\n",
      " 9.09606712e-33 9.09606712e-33 9.09606712e-33 9.09606712e-33\n",
      " 9.09606712e-33 9.09606712e-33 9.09606712e-33 9.09606712e-33\n",
      " 9.09606712e-33 9.09606712e-33 9.09606712e-33 9.09606712e-33\n",
      " 9.09606712e-33 9.09606712e-33 9.09606712e-33 9.09606712e-33\n",
      " 9.09606712e-33 9.09606712e-33 9.09606712e-33 9.09606712e-33\n",
      " 9.09606712e-33 9.09606712e-33 9.09606712e-33 9.09606712e-33\n",
      " 9.09606712e-33 9.09606712e-33 9.09606712e-33 9.09606712e-33\n",
      " 9.09606712e-33 9.09606712e-33 9.09606712e-33 9.09606712e-33\n",
      " 9.09606712e-33 9.09606712e-33 9.09606712e-33 9.09606712e-33\n",
      " 9.09606712e-33 9.09606712e-33 9.09606712e-33 9.09606712e-33\n",
      " 9.09606712e-33 9.09606712e-33 9.09606712e-33 9.09606712e-33\n",
      " 9.09606712e-33 9.09606712e-33 9.09606712e-33 9.09606712e-33\n",
      " 9.09606712e-33 9.09606712e-33 9.09606712e-33 9.09606712e-33\n",
      " 9.09606712e-33 9.09606712e-33 9.09606712e-33 9.09606712e-33\n",
      " 9.09606712e-33 9.09606712e-33 9.09606712e-33 9.09606712e-33\n",
      " 9.09606712e-33 9.09606712e-33 9.09606712e-33 9.09606712e-33\n",
      " 9.09606712e-33 9.09606712e-33 9.09606712e-33 9.09606712e-33\n",
      " 9.09606712e-33 9.09606712e-33 9.09606712e-33 9.09606712e-33\n",
      " 9.09606712e-33 9.09606712e-33 9.09606712e-33 9.09606712e-33\n",
      " 9.09606712e-33 9.09606712e-33 9.09606712e-33 9.09606712e-33\n",
      " 9.09606712e-33 9.09606712e-33 9.09606712e-33 9.09606712e-33\n",
      " 9.09606712e-33 9.09606712e-33 9.09606712e-33 9.09606712e-33\n",
      " 9.09606712e-33 9.09606712e-33 9.09606712e-33 9.09606712e-33\n",
      " 9.09606712e-33 9.09606712e-33 9.09606712e-33 9.09606712e-33\n",
      " 9.09606712e-33 9.09606712e-33 9.09606712e-33 9.09606712e-33\n",
      " 9.09606712e-33 9.09606712e-33 9.09606712e-33 9.09606712e-33\n",
      " 9.09606712e-33 9.09606712e-33 9.09606712e-33 9.09606712e-33\n",
      " 9.09606712e-33 9.09606712e-33 9.09606712e-33 9.09606712e-33\n",
      " 9.09606712e-33 9.09606712e-33 9.09606712e-33 9.09606712e-33\n",
      " 9.09606712e-33 9.09606712e-33 9.09606712e-33 9.09606712e-33\n",
      " 9.09606712e-33 9.09606712e-33 9.09606712e-33 9.09606712e-33\n",
      " 9.09606712e-33 9.09606712e-33 9.09606712e-33 9.09606712e-33\n",
      " 9.09606712e-33 9.09606712e-33 9.09606712e-33 9.09606712e-33\n",
      " 9.09606712e-33 9.09606712e-33 9.09606712e-33 9.09606712e-33\n",
      " 9.09606712e-33 9.09606712e-33 9.09606712e-33 9.09606712e-33\n",
      " 9.09606712e-33 9.09606712e-33 9.09606712e-33 9.09606712e-33\n",
      " 9.09606712e-33 9.09606712e-33 9.09606712e-33 9.09606712e-33\n",
      " 9.09606712e-33 9.09606712e-33 9.09606712e-33 9.09606712e-33\n",
      " 9.09606712e-33 9.09606712e-33 9.09606712e-33 9.09606712e-33\n",
      " 9.09606712e-33 9.09606712e-33 9.09606712e-33 9.09606712e-33\n",
      " 9.09606712e-33 9.09606712e-33 9.09606712e-33 9.09606712e-33\n",
      " 9.09606712e-33 9.09606712e-33 9.09606712e-33 9.09606712e-33\n",
      " 9.09606712e-33 9.09606712e-33 9.09606712e-33 9.09606712e-33\n",
      " 9.09606712e-33 9.09606712e-33 9.09606712e-33 9.09606712e-33\n",
      " 9.09606712e-33 9.09606712e-33 9.09606712e-33 9.09606712e-33\n",
      " 9.09606712e-33 9.09606712e-33 9.09606712e-33 9.09606712e-33\n",
      " 9.09606712e-33 9.09606712e-33 9.09606712e-33 9.09606712e-33\n",
      " 9.09606712e-33 9.09606712e-33 9.09606712e-33 9.09606712e-33\n",
      " 9.09606712e-33 9.09606712e-33 9.09606712e-33 9.09606712e-33\n",
      " 9.09606712e-33 9.09606712e-33 9.09606712e-33 9.09606712e-33\n",
      " 9.09606712e-33 9.09606712e-33 9.09606712e-33 9.09606712e-33\n",
      " 9.09606712e-33 9.09606712e-33 9.09606712e-33 9.09606712e-33\n",
      " 9.09606712e-33 9.09606712e-33 9.09606712e-33 9.09606712e-33\n",
      " 9.09606712e-33 9.09606712e-33 9.09606712e-33 9.09606712e-33\n",
      " 9.09606712e-33 9.09606712e-33 9.09606712e-33 9.09606712e-33\n",
      " 9.09606712e-33 9.09606712e-33 9.09606712e-33 9.09606712e-33\n",
      " 9.09606712e-33 9.09606712e-33 9.09606712e-33 9.09606712e-33\n",
      " 9.09606712e-33 9.09606712e-33 5.72683743e-33 1.30377291e-33]\n"
     ]
    }
   ],
   "source": [
    "# Explained variance ratio of each principal component\n",
    "explained_variance = pca.explained_variance_ratio_\n",
    "print(explained_variance)"
   ]
  },
  {
   "cell_type": "code",
   "execution_count": 24,
   "id": "f9f71eba",
   "metadata": {},
   "outputs": [
    {
     "name": "stdout",
     "output_type": "stream",
     "text": [
      "[0.94434252 0.02531532 0.01660315]\n",
      "[[109.87523069 -16.16842222  -8.58762697]\n",
      " [109.50287023 -16.04563942  -8.34436391]\n",
      " [109.13050977 -15.92285662  -8.10110084]\n",
      " ...\n",
      " [-94.18560447  -8.2086445   58.90832617]\n",
      " [-87.77303468 -11.11421469  84.93209932]\n",
      " [-83.22854943 -14.88673987 104.50383028]]\n"
     ]
    },
    {
     "data": {
      "text/plain": [
       "(400, 3)"
      ]
     },
     "execution_count": 24,
     "metadata": {},
     "output_type": "execute_result"
    }
   ],
   "source": [
    "# Keeping only first 3 principial components\n",
    "pca_2 = PCA(n_components=3)\n",
    "pca_2.fit(matrix_df)\n",
    "print(pca_2.explained_variance_ratio_)\n",
    "\n",
    "# Transform original matrix to principal component space\n",
    "pca_matrix = pca_2.transform(matrix_df)\n",
    "print(pca_matrix)\n",
    "pca_matrix.shape"
   ]
  },
  {
   "cell_type": "code",
   "execution_count": 25,
   "id": "e4264a19",
   "metadata": {},
   "outputs": [
    {
     "data": {
      "image/png": "[encoded data removed]",
      "text/plain": [
       "<Figure size 640x480 with 1 Axes>"
      ]
     },
     "metadata": {},
     "output_type": "display_data"
    }
   ],
   "source": [
    "import matplotlib.pyplot as plt\n",
    "\n",
    "# Graph first two principal components\n",
    "x = pca_matrix[:, 0]\n",
    "y = pca_matrix[:, 1]\n",
    "plt.scatter(x,y)\n",
    "plt.xlabel(\"P.C. 1\")\n",
    "plt.ylabel(\"P.C. 2\")\n",
    "plt.show()"
   ]
  },
  {
   "cell_type": "markdown",
   "id": "96048f85",
   "metadata": {},
   "source": [
    "## Trying other dimension reduction techniques"
   ]
  },
  {
   "cell_type": "code",
   "execution_count": 26,
   "id": "cc30264e",
   "metadata": {},
   "outputs": [
    {
     "data": {
      "text/plain": [
       "(400, 2)"
      ]
     },
     "execution_count": 26,
     "metadata": {},
     "output_type": "execute_result"
    }
   ],
   "source": [
    "# Trying higher order isomap technique\n",
    "from sklearn.manifold import Isomap\n",
    "# Create instance of isomap class\n",
    "isomap = Isomap(n_components=2)\n",
    "# Fit isomap model to matrix data\n",
    "isomap.fit(matrix_df)\n",
    "# Transform matrix to low dimensional space\n",
    "isomap_matrix = isomap.transform(matrix_df)\n",
    "isomap_matrix.shape"
   ]
  },
  {
   "cell_type": "code",
   "execution_count": 27,
   "id": "20d19d55",
   "metadata": {},
   "outputs": [
    {
     "data": {
      "image/png": "[encoded data removed]",
      "text/plain": [
       "<Figure size 640x480 with 1 Axes>"
      ]
     },
     "metadata": {},
     "output_type": "display_data"
    }
   ],
   "source": [
    "# Graphing isomap matrix dimensions\n",
    "import matplotlib.pyplot as plt\n",
    "\n",
    "x = isomap_matrix[:, 0]\n",
    "y = isomap_matrix[:, 1]\n",
    "plt.scatter(x,y)\n",
    "plt.xlabel(\"P.C. 1\")\n",
    "plt.ylabel(\"P.C. 2\")\n",
    "plt.show()"
   ]
  },
  {
   "cell_type": "code",
   "execution_count": 28,
   "id": "2cc68391",
   "metadata": {},
   "outputs": [
    {
     "data": {
      "text/plain": [
       "(400, 2)"
      ]
     },
     "execution_count": 28,
     "metadata": {},
     "output_type": "execute_result"
    }
   ],
   "source": [
    "# Trying higher order spectral embedding technique\n",
    "from sklearn.manifold import SpectralEmbedding\n",
    "# Create instance of spectral embedding class\n",
    "S_Embed = SpectralEmbedding()\n",
    "# Fit spectral embedding model to matrix data\n",
    "S_Embed.fit(matrix_df)\n",
    "# Transform matrix to low dimensional space\n",
    "SEmbed_matrix = isomap.transform(matrix_df)\n",
    "SEmbed_matrix.shape"
   ]
  },
  {
   "cell_type": "code",
   "execution_count": 29,
   "id": "a58e7308",
   "metadata": {},
   "outputs": [
    {
     "data": {
      "image/png": "[encoded data removed]",
      "text/plain": [
       "<Figure size 640x480 with 1 Axes>"
      ]
     },
     "metadata": {},
     "output_type": "display_data"
    }
   ],
   "source": [
    "# Graphing spectral embedding - altered matrix\n",
    "x = SEmbed_matrix[:, 0]\n",
    "y = SEmbed_matrix[:, 1]\n",
    "plt.scatter(x,y)\n",
    "plt.xlabel(\"P.C. 1\")\n",
    "plt.ylabel(\"P.C. 2\")\n",
    "plt.show()"
   ]
  },
  {
   "cell_type": "code",
   "execution_count": 31,
   "id": "fc0ce430",
   "metadata": {},
   "outputs": [
    {
     "name": "stderr",
     "output_type": "stream",
     "text": [
      "/Users/graham/opt/anaconda3/envs/Project/lib/python3.9/site-packages/sklearn/manifold/_t_sne.py:800: FutureWarning: The default initialization in TSNE will change from 'random' to 'pca' in 1.2.\n",
      "  warnings.warn(\n",
      "/Users/graham/opt/anaconda3/envs/Project/lib/python3.9/site-packages/sklearn/manifold/_t_sne.py:810: FutureWarning: The default learning rate in TSNE will change from 200.0 to 'auto' in 1.2.\n",
      "  warnings.warn(\n"
     ]
    },
    {
     "data": {
      "text/plain": [
       "(400, 2)"
      ]
     },
     "execution_count": 31,
     "metadata": {},
     "output_type": "execute_result"
    }
   ],
   "source": [
    "# Trying t-SNE high dimensional technique\n",
    "from sklearn.manifold import TSNE\n",
    "# Create instance of t-SNE class\n",
    "tSNE = TSNE()\n",
    "# Fit and transform matrix to low dimensional space\n",
    "tSNE_matrix = tSNE.fit_transform(matrix_df)\n",
    "tSNE_matrix.shape"
   ]
  },
  {
   "cell_type": "code",
   "execution_count": 32,
   "id": "2bd20eee",
   "metadata": {},
   "outputs": [
    {
     "data": {
      "image/png": "[encoded data removed]",
      "text/plain": [
       "<Figure size 640x480 with 1 Axes>"
      ]
     },
     "metadata": {},
     "output_type": "display_data"
    }
   ],
   "source": [
    "# Graphing tSNE - altered matrix\n",
    "x = tSNE_matrix[:, 0]\n",
    "y = tSNE_matrix[:, 1]\n",
    "plt.scatter(x,y)\n",
    "plt.xlabel(\"P.C. 1\")\n",
    "plt.ylabel(\"P.C. 2\")\n",
    "plt.show()"
   ]
  }
 ],
 "metadata": {
  "kernelspec": {
   "display_name": "Python 3 (ipykernel)",
   "language": "python",
   "name": "python3"
  },
  "language_info": {
   "codemirror_mode": {
    "name": "ipython",
    "version": 3
   },
   "file_extension": ".py",
   "mimetype": "text/x-python",
   "name": "python",
   "nbconvert_exporter": "python",
   "pygments_lexer": "ipython3",
   "version": "3.9.13"
  }
 },
 "nbformat": 4,
 "nbformat_minor": 5
}
